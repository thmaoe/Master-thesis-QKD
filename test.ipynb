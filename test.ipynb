{
 "cells": [
  {
   "cell_type": "code",
   "execution_count": 1,
   "metadata": {},
   "outputs": [],
   "source": [
    "import simulation\n",
    "import shannonLower\n",
    "import HminLower\n",
    "from math import sqrt\n",
    "import matplotlib.pyplot as plt\n",
    "import utils\n",
    "import numpy as np\n",
    "import ShannonEAT"
   ]
  },
  {
   "cell_type": "code",
   "execution_count": 2,
   "metadata": {},
   "outputs": [],
   "source": [
    "vals3= []\n",
    "alphas = []\n",
    "deltas = []\n",
    "for i in range(100):\n",
    "    alpha = sqrt(0.1 + i*0.02)\n",
    "    ps = []\n",
    "    delta = 0.0\n",
    "    for i in range(5):\n",
    "        delta, p = simulation.doSimul(alpha, 7/8, '1', 100000, 0.77, False)\n",
    "        ps.append(p[0])\n",
    "    val = ShannonEAT.getH(ps, 100000, delta, 7/8)\n",
    "    alphas.append(alpha)\n",
    "    vals3.append(val)\n",
    "    deltas.append(delta)\n",
    "  "
   ]
  },
  {
   "cell_type": "code",
   "execution_count": 5,
   "metadata": {},
   "outputs": [],
   "source": [
    "vals= []\n",
    "alphas = []\n",
    "deltas = []\n",
    "for i in range(100):\n",
    "    alpha = sqrt(0.1 + i*0.02)\n",
    "    delta = 0.0\n",
    "    delta, p = simulation.doSimul(alpha, 7/8, '1', 100000, 0.77, False)\n",
    "    val = shannonLower.runOpti(delta, p[0], 7/8)\n",
    "    alphas.append(alpha)\n",
    "    vals.append(val)\n",
    "    deltas.append(delta)\n",
    "  "
   ]
  },
  {
   "cell_type": "code",
   "execution_count": 6,
   "metadata": {},
   "outputs": [
    {
     "data": {
      "text/plain": [
       "[<matplotlib.lines.Line2D at 0x11438ef90>]"
      ]
     },
     "execution_count": 6,
     "metadata": {},
     "output_type": "execute_result"
    },
    {
     "data": {
      "image/png": "[encoded data removed]",
      "text/plain": [
       "<Figure size 640x480 with 1 Axes>"
      ]
     },
     "metadata": {},
     "output_type": "display_data"
    }
   ],
   "source": [
    "plt.figure()\n",
    "plt.plot(deltas, vals, 'rx')\n",
    "plt.plot(deltas, vals3, 'bx')"
   ]
  },
  {
   "cell_type": "code",
   "execution_count": 8,
   "metadata": {},
   "outputs": [],
   "source": [
    "ps = []\n",
    "delta = 0.0\n",
    "for i in range(1):\n",
    "    delta, p = simulation.doSimul(0.4, 7/8, '1', 100000, 0.77, False)\n",
    "    ps.append(p[0])"
   ]
  },
  {
   "cell_type": "code",
   "execution_count": 9,
   "metadata": {},
   "outputs": [
    {
     "ename": "StatisticsError",
     "evalue": "variance requires at least two data points",
     "output_type": "error",
     "traceback": [
      "\u001b[31m---------------------------------------------------------------------------\u001b[39m",
      "\u001b[31mStatisticsError\u001b[39m                           Traceback (most recent call last)",
      "\u001b[36mCell\u001b[39m\u001b[36m \u001b[39m\u001b[32mIn[9]\u001b[39m\u001b[32m, line 1\u001b[39m\n\u001b[32m----> \u001b[39m\u001b[32m1\u001b[39m \u001b[43mShannonEAT\u001b[49m\u001b[43m.\u001b[49m\u001b[43mgetH\u001b[49m\u001b[43m(\u001b[49m\u001b[43mps\u001b[49m\u001b[43m,\u001b[49m\u001b[43m \u001b[49m\u001b[32;43m100000\u001b[39;49m\u001b[43m,\u001b[49m\u001b[43m \u001b[49m\u001b[43mdelta\u001b[49m\u001b[43m,\u001b[49m\u001b[43m \u001b[49m\u001b[32;43m7\u001b[39;49m\u001b[43m/\u001b[49m\u001b[32;43m8\u001b[39;49m\u001b[43m)\u001b[49m\n",
      "\u001b[36mFile \u001b[39m\u001b[32m~/Desktop/MASTERTHESIS/SDPLearning/ShannonEAT.py:18\u001b[39m, in \u001b[36mgetH\u001b[39m\u001b[34m(ps, N, delta, px)\u001b[39m\n\u001b[32m     15\u001b[39m     Hs.append(h)\n\u001b[32m     17\u001b[39m Hmin = \u001b[38;5;28mmin\u001b[39m(Hs)\n\u001b[32m---> \u001b[39m\u001b[32m18\u001b[39m var = \u001b[43mstatistics\u001b[49m\u001b[43m.\u001b[49m\u001b[43mvariance\u001b[49m\u001b[43m(\u001b[49m\u001b[43mHs\u001b[49m\u001b[43m)\u001b[49m\n\u001b[32m     19\u001b[39m fmin = Hmin - var - d\n\u001b[32m     21\u001b[39m g = -np.log2(\u001b[32m1\u001b[39m-np.sqrt(\u001b[32m1\u001b[39m-eps**\u001b[32m2\u001b[39m))\n",
      "\u001b[36mFile \u001b[39m\u001b[32m~/opt/anaconda3/envs/mosek/lib/python3.12/statistics.py:914\u001b[39m, in \u001b[36mvariance\u001b[39m\u001b[34m(data, xbar)\u001b[39m\n\u001b[32m    912\u001b[39m T, ss, c, n = _ss(data, xbar)\n\u001b[32m    913\u001b[39m \u001b[38;5;28;01mif\u001b[39;00m n < \u001b[32m2\u001b[39m:\n\u001b[32m--> \u001b[39m\u001b[32m914\u001b[39m     \u001b[38;5;28;01mraise\u001b[39;00m StatisticsError(\u001b[33m'\u001b[39m\u001b[33mvariance requires at least two data points\u001b[39m\u001b[33m'\u001b[39m)\n\u001b[32m    915\u001b[39m \u001b[38;5;28;01mreturn\u001b[39;00m _convert(ss / (n - \u001b[32m1\u001b[39m), T)\n",
      "\u001b[31mStatisticsError\u001b[39m: variance requires at least two data points"
     ]
    }
   ],
   "source": [
    "ShannonEAT.getH(ps, 100000, delta, 7/8)"
   ]
  },
  {
   "cell_type": "code",
   "execution_count": null,
   "metadata": {},
   "outputs": [],
   "source": []
  },
  {
   "cell_type": "code",
   "execution_count": null,
   "metadata": {},
   "outputs": [],
   "source": [
    "alphas = np.linspace(0.1, 1, 20)\n",
    "betas = np.linspace(0.3, 0.9, 20)\n",
    "vals = np.zeros((20, 20))\n",
    "\n",
    "for i in range(20):\n",
    "    for j in range(20):\n",
    "        a = (alphas[i], betas[j])\n",
    "        deltas, p = simulation.doSimul(a, 1/2, '3', 100000, 0.94)\n",
    "        val = shannonLower.runOpti(deltas, p[0], 1/2, 'Faster', impl=1)\n",
    "        vals[i,j] = val"
   ]
  },
  {
   "cell_type": "code",
   "execution_count": null,
   "metadata": {},
   "outputs": [],
   "source": [
    "import seaborn as sns\n",
    "\n",
    "plt.figure()\n",
    "ax = sns.heatmap(vals, xticklabels=betas, yticklabels=alphas, cmap='viridis')\n",
    "ax.invert_yaxis()\n",
    "plt.xlabel('Beta')\n",
    "plt.ylabel('Alpha')\n",
    "plt.title('Heatmap of f(alpha, beta)')"
   ]
  },
  {
   "cell_type": "code",
   "execution_count": 2,
   "metadata": {},
   "outputs": [],
   "source": [
    "vals = []\n",
    "alphas = np.linspace(0.1, 100, 20)\n",
    "deltas = []\n",
    "for alpha in alphas:\n",
    "    delta, p = simulation.doSimul(alpha, 7/8, '1', 100000, 0.77, False)\n",
    "    # p = utils.handle_non_phys(p, alpha, '1')\n",
    "    val = shannonLower.runOpti(delta, p[0], 7/8)\n",
    "    deltas.append(delta)\n",
    "    # alphas.append(alpha)\n",
    "    vals.append(val)\n",
    "  "
   ]
  },
  {
   "cell_type": "code",
   "execution_count": 4,
   "metadata": {},
   "outputs": [
    {
     "data": {
      "text/plain": [
       "[np.float64(0.06579455951182922),\n",
       " np.float64(0.3939142091387051),\n",
       " np.float64(0.3947170365033834),\n",
       " np.float64(0.3944161777836417),\n",
       " np.float64(0.39492991817843226),\n",
       " np.float64(0.3949843662293677),\n",
       " np.float64(0.3943957231245374),\n",
       " np.float64(0.39342031207775463),\n",
       " np.float64(0.39654867018365003),\n",
       " np.float64(0.39419784084937604),\n",
       " np.float64(0.39416537031915766),\n",
       " np.float64(0.3965074524689918),\n",
       " np.float64(0.39471397496515515),\n",
       " np.float64(0.3950956817351141),\n",
       " np.float64(0.3951647564431173),\n",
       " np.float64(0.39533573605074146),\n",
       " np.float64(0.39458093727883536),\n",
       " np.float64(0.39367400343311587),\n",
       " np.float64(0.3954768045088084),\n",
       " np.float64(0.39476574773983764)]"
      ]
     },
     "execution_count": 4,
     "metadata": {},
     "output_type": "execute_result"
    }
   ],
   "source": [
    "vals"
   ]
  },
  {
   "cell_type": "code",
   "execution_count": null,
   "metadata": {},
   "outputs": [],
   "source": [
    "vals2 = []\n",
    "alphas = []\n",
    "\n",
    "for i in range(100):\n",
    "    alpha = sqrt(0.1 + i*0.02)\n",
    "    delta, p = simulation.doSimul(alpha, 7/8, '1', 100000, 1, True)\n",
    "    p = utils.handle_non_phys(p, alpha, '1')\n",
    "    alphas.append(alpha)\n",
    "    vals2.append(val)\n",
    "  "
   ]
  },
  {
   "cell_type": "code",
   "execution_count": null,
   "metadata": {},
   "outputs": [],
   "source": [
    "vals3= []\n",
    "alphas = []\n",
    "\n",
    "for i in range(100):\n",
    "    alpha = sqrt(0.1 + i*0.02)\n",
    "    delta, p = simulation.doSimul(alpha, 7/8, '1', 100000, 1, False)\n",
    "    p = utils.handle_non_phys(p, alpha, '1')    \n",
    "    val = shannonLower.runOpti(delta, p[0], 7/8)\n",
    "    alphas.append(alpha)\n",
    "    vals3.append(val)\n",
    "  "
   ]
  },
  {
   "cell_type": "code",
   "execution_count": null,
   "metadata": {},
   "outputs": [],
   "source": [
    "vals4= []\n",
    "alphas = []\n",
    "\n",
    "for i in range(100):\n",
    "    alpha = sqrt(0.1 + i*0.02)\n",
    "    delta, p = simulation.doSimul(alpha, 7/8, '1', 100000, 1, True)\n",
    "    p = utils.handle_non_phys(p, alpha, '1')\n",
    "    val = shannonLower.runOpti(delta, p[0], 7/8)\n",
    "    alphas.append(alpha)\n",
    "    vals4.append(val)\n",
    "  "
   ]
  },
  {
   "cell_type": "code",
   "execution_count": null,
   "metadata": {},
   "outputs": [],
   "source": [
    "alphas = [0.1 + i*0.02 for i in range(100)]"
   ]
  },
  {
   "cell_type": "code",
   "execution_count": null,
   "metadata": {},
   "outputs": [],
   "source": [
    "plt.figure()\n",
    "plt.plot(alphas, vals, 'bx', label='Hmin - No Deadtime')\n",
    "plt.plot(alphas, vals2, 'b.', label=\"Hmin - Deadtime\")\n",
    "plt.plot(alphas, vals3, 'rx', label = 'Shannon - No Deadtime')\n",
    "plt.plot(alphas, vals4, 'r.', label = 'Shannon - Deadtime')\n",
    "plt.legend()"
   ]
  },
  {
   "cell_type": "code",
   "execution_count": null,
   "metadata": {},
   "outputs": [],
   "source": [
    "vals_ = []\n",
    "alphas = []\n",
    "\n",
    "for i in range(100):\n",
    "    alpha = sqrt(0.1 + i*0.02)\n",
    "    delta, p = simulation.doSimul(alpha, 1/2, '2', 100000, 1, False)\n",
    "    p = utils.handle_non_phys(p, alpha, '2')\n",
    "    val = HminLower.getHmin(p[0], delta, 1/2)\n",
    "    alphas.append(alpha)\n",
    "    vals_.append(val)\n",
    "  "
   ]
  },
  {
   "cell_type": "code",
   "execution_count": null,
   "metadata": {},
   "outputs": [],
   "source": [
    "vals_2 = []\n",
    "alphas = []\n",
    "\n",
    "for i in range(100):\n",
    "    alpha = sqrt(0.1 + i*0.02)\n",
    "    delta, p = simulation.doSimul(alpha, 1/2, '2', 100000, 1, True)\n",
    "    p = utils.handle_non_phys(p, alpha, '2')\n",
    "    val = HminLower.getHmin(p[0], delta, 1/2)\n",
    "    alphas.append(alpha)\n",
    "    vals_2.append(val)\n",
    "  "
   ]
  },
  {
   "cell_type": "code",
   "execution_count": null,
   "metadata": {},
   "outputs": [],
   "source": [
    "vals_3= []\n",
    "alphas = []\n",
    "\n",
    "for i in range(100):\n",
    "    alpha = sqrt(0.1 + i*0.02)\n",
    "    delta, p = simulation.doSimul(alpha, 1/2, '2', 100000, 1, False)\n",
    "    p = utils.handle_non_phys(p, alpha, '2')\n",
    "    val = shannonLower.runOpti(delta, p[0], 1/2)\n",
    "    alphas.append(alpha)\n",
    "    vals_3.append(val)\n",
    "  "
   ]
  },
  {
   "cell_type": "code",
   "execution_count": null,
   "metadata": {},
   "outputs": [],
   "source": [
    "vals_4= []\n",
    "alphas = []\n",
    "\n",
    "for i in range(100):\n",
    "    alpha = sqrt(0.1 + i*0.02)\n",
    "    delta, p = simulation.doSimul(alpha, 1/2, '2', 100000, 1, True)\n",
    "    p = utils.handle_non_phys(p, alpha, '2')\n",
    "    val = shannonLower.runOpti(delta, p[0], 1/2)\n",
    "    alphas.append(alpha)\n",
    "    vals_4.append(val)\n",
    "  "
   ]
  },
  {
   "cell_type": "code",
   "execution_count": null,
   "metadata": {},
   "outputs": [],
   "source": [
    "plt.figure()\n",
    "plt.plot(alphas, vals_, 'bx', label='Hmin - No Deadtime')\n",
    "plt.plot(alphas, vals_2, 'b.', label='Hmin - Deadtime')\n",
    "plt.plot(alphas, vals_3, 'rx', label='Shannon - No Deadtime')\n",
    "plt.plot(alphas, vals_4, 'r.', label = 'Shannon - Deadtime')\n",
    "plt.legend()"
   ]
  },
  {
   "cell_type": "code",
   "execution_count": null,
   "metadata": {},
   "outputs": [],
   "source": []
  },
  {
   "cell_type": "code",
   "execution_count": null,
   "metadata": {},
   "outputs": [],
   "source": [
    "    "
   ]
  }
 ],
 "metadata": {
  "kernelspec": {
   "display_name": "mosek",
   "language": "python",
   "name": "python3"
  },
  "language_info": {
   "codemirror_mode": {
    "name": "ipython",
    "version": 3
   },
   "file_extension": ".py",
   "mimetype": "text/x-python",
   "name": "python",
   "nbconvert_exporter": "python",
   "pygments_lexer": "ipython3",
   "version": "3.12.9"
  }
 },
 "nbformat": 4,
 "nbformat_minor": 2
}
