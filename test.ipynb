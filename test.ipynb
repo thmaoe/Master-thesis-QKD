{
 "cells": [
  {
   "cell_type": "code",
   "execution_count": 1,
   "metadata": {},
   "outputs": [],
   "source": [
    "import simulation\n",
    "import shannonLower\n",
    "import HminLower\n",
    "from math import sqrt\n",
    "import matplotlib.pyplot as plt\n",
    "import utils\n",
    "import numpy as np"
   ]
  },
  {
   "cell_type": "code",
   "execution_count": null,
   "metadata": {},
   "outputs": [],
   "source": [
    "alphas = np.linspace(0.1, 1, 20)\n",
    "betas = np.linspace(0.3, 0.9, 20)\n",
    "vals = np.zeros((20, 20))\n",
    "\n",
    "for i in range(20):\n",
    "    for j in range(20):\n",
    "        a = (alphas[i], betas[j])\n",
    "        deltas, p = simulation.doSimul(a, 1/2, '3', 100000, 0.94)\n",
    "        val = shannonLower.runOpti(deltas, p[0], 1/2, 'Faster', impl=1)\n",
    "        vals[i,j] = val"
   ]
  },
  {
   "cell_type": "code",
   "execution_count": null,
   "metadata": {},
   "outputs": [],
   "source": [
    "import seaborn as sns\n",
    "\n",
    "plt.figure()\n",
    "ax = sns.heatmap(vals, xticklabels=betas, yticklabels=alphas, cmap='viridis')\n",
    "ax.invert_yaxis()\n",
    "plt.xlabel('Beta')\n",
    "plt.ylabel('Alpha')\n",
    "plt.title('Heatmap of f(alpha, beta)')"
   ]
  },
  {
   "cell_type": "code",
   "execution_count": 2,
   "metadata": {},
   "outputs": [],
   "source": [
    "vals = []\n",
    "alphas = np.linspace(0.1, 100, 20)\n",
    "deltas = []\n",
    "for alpha in alphas:\n",
    "    delta, p = simulation.doSimul(alpha, 7/8, '1', 100000, 0.77, False)\n",
    "    # p = utils.handle_non_phys(p, alpha, '1')\n",
    "    val = shannonLower.runOpti(delta, p[0], 7/8)\n",
    "    deltas.append(delta)\n",
    "    # alphas.append(alpha)\n",
    "    vals.append(val)\n",
    "  "
   ]
  },
  {
   "cell_type": "code",
   "execution_count": 4,
   "metadata": {},
   "outputs": [
    {
     "data": {
      "text/plain": [
       "[np.float64(0.06579455951182922),\n",
       " np.float64(0.3939142091387051),\n",
       " np.float64(0.3947170365033834),\n",
       " np.float64(0.3944161777836417),\n",
       " np.float64(0.39492991817843226),\n",
       " np.float64(0.3949843662293677),\n",
       " np.float64(0.3943957231245374),\n",
       " np.float64(0.39342031207775463),\n",
       " np.float64(0.39654867018365003),\n",
       " np.float64(0.39419784084937604),\n",
       " np.float64(0.39416537031915766),\n",
       " np.float64(0.3965074524689918),\n",
       " np.float64(0.39471397496515515),\n",
       " np.float64(0.3950956817351141),\n",
       " np.float64(0.3951647564431173),\n",
       " np.float64(0.39533573605074146),\n",
       " np.float64(0.39458093727883536),\n",
       " np.float64(0.39367400343311587),\n",
       " np.float64(0.3954768045088084),\n",
       " np.float64(0.39476574773983764)]"
      ]
     },
     "execution_count": 4,
     "metadata": {},
     "output_type": "execute_result"
    }
   ],
   "source": [
    "vals"
   ]
  },
  {
   "cell_type": "code",
   "execution_count": null,
   "metadata": {},
   "outputs": [],
   "source": [
    "vals2 = []\n",
    "alphas = []\n",
    "\n",
    "for i in range(100):\n",
    "    alpha = sqrt(0.1 + i*0.02)\n",
    "    delta, p = simulation.doSimul(alpha, 7/8, '1', 100000, 1, True)\n",
    "    p = utils.handle_non_phys(p, alpha, '1')\n",
    "    alphas.append(alpha)\n",
    "    vals2.append(val)\n",
    "  "
   ]
  },
  {
   "cell_type": "code",
   "execution_count": null,
   "metadata": {},
   "outputs": [],
   "source": [
    "vals3= []\n",
    "alphas = []\n",
    "\n",
    "for i in range(100):\n",
    "    alpha = sqrt(0.1 + i*0.02)\n",
    "    delta, p = simulation.doSimul(alpha, 7/8, '1', 100000, 1, False)\n",
    "    p = utils.handle_non_phys(p, alpha, '1')    \n",
    "    val = shannonLower.runOpti(delta, p[0], 7/8)\n",
    "    alphas.append(alpha)\n",
    "    vals3.append(val)\n",
    "  "
   ]
  },
  {
   "cell_type": "code",
   "execution_count": null,
   "metadata": {},
   "outputs": [],
   "source": [
    "vals4= []\n",
    "alphas = []\n",
    "\n",
    "for i in range(100):\n",
    "    alpha = sqrt(0.1 + i*0.02)\n",
    "    delta, p = simulation.doSimul(alpha, 7/8, '1', 100000, 1, True)\n",
    "    p = utils.handle_non_phys(p, alpha, '1')\n",
    "    val = shannonLower.runOpti(delta, p[0], 7/8)\n",
    "    alphas.append(alpha)\n",
    "    vals4.append(val)\n",
    "  "
   ]
  },
  {
   "cell_type": "code",
   "execution_count": null,
   "metadata": {},
   "outputs": [],
   "source": [
    "alphas = [0.1 + i*0.02 for i in range(100)]"
   ]
  },
  {
   "cell_type": "code",
   "execution_count": null,
   "metadata": {},
   "outputs": [],
   "source": [
    "plt.figure()\n",
    "plt.plot(alphas, vals, 'bx', label='Hmin - No Deadtime')\n",
    "plt.plot(alphas, vals2, 'b.', label=\"Hmin - Deadtime\")\n",
    "plt.plot(alphas, vals3, 'rx', label = 'Shannon - No Deadtime')\n",
    "plt.plot(alphas, vals4, 'r.', label = 'Shannon - Deadtime')\n",
    "plt.legend()"
   ]
  },
  {
   "cell_type": "code",
   "execution_count": null,
   "metadata": {},
   "outputs": [],
   "source": [
    "vals_ = []\n",
    "alphas = []\n",
    "\n",
    "for i in range(100):\n",
    "    alpha = sqrt(0.1 + i*0.02)\n",
    "    delta, p = simulation.doSimul(alpha, 1/2, '2', 100000, 1, False)\n",
    "    p = utils.handle_non_phys(p, alpha, '2')\n",
    "    val = HminLower.getHmin(p[0], delta, 1/2)\n",
    "    alphas.append(alpha)\n",
    "    vals_.append(val)\n",
    "  "
   ]
  },
  {
   "cell_type": "code",
   "execution_count": null,
   "metadata": {},
   "outputs": [],
   "source": [
    "vals_2 = []\n",
    "alphas = []\n",
    "\n",
    "for i in range(100):\n",
    "    alpha = sqrt(0.1 + i*0.02)\n",
    "    delta, p = simulation.doSimul(alpha, 1/2, '2', 100000, 1, True)\n",
    "    p = utils.handle_non_phys(p, alpha, '2')\n",
    "    val = HminLower.getHmin(p[0], delta, 1/2)\n",
    "    alphas.append(alpha)\n",
    "    vals_2.append(val)\n",
    "  "
   ]
  },
  {
   "cell_type": "code",
   "execution_count": null,
   "metadata": {},
   "outputs": [],
   "source": [
    "vals_3= []\n",
    "alphas = []\n",
    "\n",
    "for i in range(100):\n",
    "    alpha = sqrt(0.1 + i*0.02)\n",
    "    delta, p = simulation.doSimul(alpha, 1/2, '2', 100000, 1, False)\n",
    "    p = utils.handle_non_phys(p, alpha, '2')\n",
    "    val = shannonLower.runOpti(delta, p[0], 1/2)\n",
    "    alphas.append(alpha)\n",
    "    vals_3.append(val)\n",
    "  "
   ]
  },
  {
   "cell_type": "code",
   "execution_count": null,
   "metadata": {},
   "outputs": [],
   "source": [
    "vals_4= []\n",
    "alphas = []\n",
    "\n",
    "for i in range(100):\n",
    "    alpha = sqrt(0.1 + i*0.02)\n",
    "    delta, p = simulation.doSimul(alpha, 1/2, '2', 100000, 1, True)\n",
    "    p = utils.handle_non_phys(p, alpha, '2')\n",
    "    val = shannonLower.runOpti(delta, p[0], 1/2)\n",
    "    alphas.append(alpha)\n",
    "    vals_4.append(val)\n",
    "  "
   ]
  },
  {
   "cell_type": "code",
   "execution_count": null,
   "metadata": {},
   "outputs": [],
   "source": [
    "plt.figure()\n",
    "plt.plot(alphas, vals_, 'bx', label='Hmin - No Deadtime')\n",
    "plt.plot(alphas, vals_2, 'b.', label='Hmin - Deadtime')\n",
    "plt.plot(alphas, vals_3, 'rx', label='Shannon - No Deadtime')\n",
    "plt.plot(alphas, vals_4, 'r.', label = 'Shannon - Deadtime')\n",
    "plt.legend()"
   ]
  },
  {
   "cell_type": "code",
   "execution_count": null,
   "metadata": {},
   "outputs": [],
   "source": []
  },
  {
   "cell_type": "code",
   "execution_count": null,
   "metadata": {},
   "outputs": [],
   "source": [
    "    "
   ]
  }
 ],
 "metadata": {
  "kernelspec": {
   "display_name": "mosek",
   "language": "python",
   "name": "python3"
  },
  "language_info": {
   "codemirror_mode": {
    "name": "ipython",
    "version": 3
   },
   "file_extension": ".py",
   "mimetype": "text/x-python",
   "name": "python",
   "nbconvert_exporter": "python",
   "pygments_lexer": "ipython3",
   "version": "3.12.9"
  }
 },
 "nbformat": 4,
 "nbformat_minor": 2
}
