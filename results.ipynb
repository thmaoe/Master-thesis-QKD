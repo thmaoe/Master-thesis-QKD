{
 "cells": [
  {
   "cell_type": "code",
   "execution_count": 1,
   "id": "4a9214bd",
   "metadata": {},
   "outputs": [],
   "source": [
    "import simulation\n",
    "import utils\n",
    "import HminLower\n",
    "import shannonLower\n",
    "from math import sqrt\n",
    "import matplotlib.pyplot as plt\n",
    "import numpy as np\n",
    "import json"
   ]
  },
  {
   "cell_type": "markdown",
   "id": "2e3efa17",
   "metadata": {},
   "source": [
    "## Recreating results on Shannon"
   ]
  },
  {
   "cell_type": "code",
   "execution_count": null,
   "id": "9e7055d2",
   "metadata": {},
   "outputs": [],
   "source": [
    "alphas = np.linspace(0.01, 1, 50)\n",
    "betas = np.linspace(0.3, 0.9, 50)\n",
    "vals = np.zeros((50, 50))\n",
    "res = {'alphas': alphas, 'betas': betas, 'probas': []}\n",
    "\n",
    "for i in range(50):\n",
    "    for j in range(50):\n",
    "        a = (alphas[i], betas[j])\n",
    "        deltas, p = simulation.doSimul(a, 1/2, '3', 100000, 0.94)\n",
    "        val = shannonLower.runOpti(deltas, p[0], 1/2, 'Faster', impl=1)\n",
    "        vals[i,j] = val\n",
    "        res['probas'].append(p)\n",
    "\n",
    "res['vals'] = vals\n",
    "with open(\"Results/Shannon3.json\", 'w') as f:\n",
    "    json.dump(res, f)"
   ]
  },
  {
   "cell_type": "code",
   "execution_count": null,
   "id": "dcdcd252",
   "metadata": {},
   "outputs": [],
   "source": [
    "import seaborn as sns\n",
    "\n",
    "plt.figure()\n",
    "ax = sns.heatmap(vals, xticklabels=betas, yticklabels=alphas, cmap='viridis')\n",
    "ax.invert_yaxis()\n",
    "plt.xlabel('Beta')\n",
    "plt.ylabel('Alpha')\n",
    "plt.title('Heatmap of f(alpha, beta)')"
   ]
  },
  {
   "cell_type": "markdown",
   "id": "bcc752ea",
   "metadata": {},
   "source": [
    "## Comparing Shannon and Hmin -- Same setup as from paper"
   ]
  },
  {
   "cell_type": "code",
   "execution_count": 2,
   "id": "79527811",
   "metadata": {},
   "outputs": [],
   "source": [
    "res1 = {'deltas': [], 'probas': [], 'vals': []}\n",
    "\n",
    "for i in range(100):\n",
    "    alpha = sqrt(0.1 + i*0.03)\n",
    "    delta, p = simulation.doSimul(alpha, 7/8, '1', 100000, 0.77, False)\n",
    "    val = shannonLower.runOpti(delta, p[0], 7/8)\n",
    "\n",
    "    res1['deltas'].append(delta)\n",
    "    res1['vals'].append(val)\n",
    "    res1['probas'].append(p)\n",
    "\n",
    "with open('Results/Shannon1_077_NoDT.json', 'w') as f:\n",
    "    json.dump(res1, f)"
   ]
  },
  {
   "cell_type": "code",
   "execution_count": 3,
   "id": "04b74b11",
   "metadata": {},
   "outputs": [],
   "source": [
    "res2 = {'deltas': [], 'probas': [], 'vals': []}\n",
    "\n",
    "for i in range(100):\n",
    "    alpha = sqrt(0.1 + i*0.03)\n",
    "    delta, p = simulation.doSimul(alpha, 7/8, '1', 100000, 0.77, True)\n",
    "    val = shannonLower.runOpti(delta, p[0], 7/8)\n",
    "\n",
    "    res2['deltas'].append(delta)\n",
    "    res2['vals'].append(val)\n",
    "    res2['probas'].append(p)\n",
    "\n",
    "with open('Results/Shannon1_077_DT.json', 'w') as f:\n",
    "    json.dump(res2, f)"
   ]
  },
  {
   "cell_type": "code",
   "execution_count": 4,
   "id": "163011c7",
   "metadata": {},
   "outputs": [],
   "source": [
    "res3 = {'deltas': [], 'probas': [], 'vals': []}\n",
    "\n",
    "for i in range(100):\n",
    "    alpha = sqrt(0.1 + i*0.03)\n",
    "    delta, p = simulation.doSimul(alpha, 7/8, '1', 100000, 0.77, False)\n",
    "    val = HminLower.getHmin(p[0], delta, 7/8)\n",
    "\n",
    "    res3['deltas'].append(delta)\n",
    "    res3['vals'].append(val)\n",
    "    res3['probas'].append(p)\n",
    "\n",
    "with open('Results/Hmin1_077_NoDT.json', 'w') as f:\n",
    "    json.dump(res3, f)"
   ]
  },
  {
   "cell_type": "code",
   "execution_count": 5,
   "id": "dfc5b467",
   "metadata": {},
   "outputs": [],
   "source": [
    "res4 = {'deltas': [], 'probas': [], 'vals': []}\n",
    "\n",
    "for i in range(100):\n",
    "    alpha = sqrt(0.1 + i*0.03)\n",
    "    delta, p = simulation.doSimul(alpha, 7/8, '1', 100000, 0.77, True)\n",
    "    val = HminLower.getHmin(p[0], delta, 7/8)\n",
    "\n",
    "    res4['deltas'].append(delta)\n",
    "    res4['vals'].append(val)\n",
    "    res4['probas'].append(p)\n",
    "\n",
    "with open('Results/Hmin1_077_DT.json', 'w') as f:\n",
    "    json.dump(res4, f)"
   ]
  },
  {
   "cell_type": "code",
   "execution_count": 6,
   "id": "9f4835a9",
   "metadata": {},
   "outputs": [],
   "source": [
    "res5 = {'deltas': [], 'probas': [], 'vals': []}\n",
    "\n",
    "for i in range(100):\n",
    "    alpha = sqrt(0.1 + i*0.03)\n",
    "    delta, p = simulation.doSimul(alpha, 7/8, '1', 100000, 1, False)\n",
    "    p = utils.handle_non_phys(p, alpha, '1')\n",
    "    val = shannonLower.runOpti(delta, p[0], 7/8)\n",
    "\n",
    "    res5['deltas'].append(delta)\n",
    "    res5['vals'].append(val)\n",
    "    res5['probas'].append(p)\n",
    "\n",
    "with open('Results/Shannon1_1_NoDT.json', 'w') as f:\n",
    "    json.dump(res5, f)"
   ]
  },
  {
   "cell_type": "code",
   "execution_count": 7,
   "id": "d5b06895",
   "metadata": {},
   "outputs": [],
   "source": [
    "res6 = {'deltas': [], 'probas': [], 'vals': []}\n",
    "\n",
    "for i in range(100):\n",
    "    alpha = sqrt(0.1 + i*0.03)\n",
    "    delta, p = simulation.doSimul(alpha, 7/8, '1', 100000, 1, False)\n",
    "    p = utils.handle_non_phys(p, alpha, '1')\n",
    "    val = HminLower.getHmin(p[0], delta, 7/8)\n",
    "\n",
    "    res6['deltas'].append(delta)\n",
    "    res6['vals'].append(val)\n",
    "    res6['probas'].append(p)\n",
    "\n",
    "with open('Results/Hmin1_1_NoDT.json', 'w') as f:\n",
    "    json.dump(res6, f)"
   ]
  },
  {
   "cell_type": "code",
   "execution_count": 36,
   "id": "3f7d284e",
   "metadata": {},
   "outputs": [
    {
     "data": {
      "text/plain": [
       "<matplotlib.legend.Legend at 0x117fd58b0>"
      ]
     },
     "execution_count": 36,
     "metadata": {},
     "output_type": "execute_result"
    },
    {
     "data": {
      "image/png": "[encoded data removed]",
      "text/plain": [
       "<Figure size 640x480 with 1 Axes>"
      ]
     },
     "metadata": {},
     "output_type": "display_data"
    }
   ],
   "source": [
    "plt.figure()\n",
    "plt.plot(res1['deltas'], res1['vals'], 'bx', label=\"Shannon - No Deadtime\")\n",
    "plt.plot(res2['deltas'], res2['vals'], 'bo', label=\"Shannon - Deadtime\")\n",
    "plt.plot(res3['deltas'], res3['vals'], 'rx', label=\"Hmin - No Deadtime\")\n",
    "plt.plot(res4['deltas'], res4['vals'], 'ro', label=\"Hmin - Deadtime\")\n",
    "plt.plot(res5['deltas'], res5['vals'], 'b.', label=\"Shannon - No loss\")\n",
    "plt.plot(res6['deltas'], res6['vals'], 'r.', label=\"Hmin - No loss\")\n",
    "plt.xlabel(\"delta\")\n",
    "plt.ylabel(\"Entropy\")\n",
    "plt.legend()"
   ]
  },
  {
   "cell_type": "code",
   "execution_count": 9,
   "id": "d8b596f8",
   "metadata": {},
   "outputs": [],
   "source": [
    "res_1 = {'deltas': [], 'probas': [], 'vals': []}\n",
    "\n",
    "for i in range(100):\n",
    "    alpha = sqrt(0.1 + i*0.03)\n",
    "    delta, p = simulation.doSimul(alpha, 1/2, '2', 100000, 0.77, False)\n",
    "    val = shannonLower.runOpti(delta, p[0], 1/2)\n",
    "\n",
    "    res_1['deltas'].append(delta)\n",
    "    res_1['vals'].append(val)\n",
    "    res_1['probas'].append(p)\n",
    "\n",
    "with open('Results/Shannon2_077_NoDT.json', 'w') as f:\n",
    "    json.dump(res_1, f)"
   ]
  },
  {
   "cell_type": "code",
   "execution_count": 10,
   "id": "099b81f5",
   "metadata": {},
   "outputs": [],
   "source": [
    "res_2 = {'deltas': [], 'probas': [], 'vals': []}\n",
    "\n",
    "for i in range(100):\n",
    "    alpha = sqrt(0.1 + i*0.03)\n",
    "    delta, p = simulation.doSimul(alpha, 1/2, '2', 100000, 0.77, True)\n",
    "    val = shannonLower.runOpti(delta, p[0], 1/2)\n",
    "\n",
    "    res_2['deltas'].append(delta)\n",
    "    res_2['vals'].append(val)\n",
    "    res_2['probas'].append(p)\n",
    "\n",
    "with open('Results/Shannon2_077_DT.json', 'w') as f:\n",
    "    json.dump(res_2, f)"
   ]
  },
  {
   "cell_type": "code",
   "execution_count": 11,
   "id": "3622d6ef",
   "metadata": {},
   "outputs": [],
   "source": [
    "res_3 = {'deltas': [], 'probas': [], 'vals': []}\n",
    "\n",
    "for i in range(100):\n",
    "    alpha = sqrt(0.1 + i*0.03)\n",
    "    delta, p = simulation.doSimul(alpha, 1/2, '2', 100000, 0.77, False)\n",
    "    val = HminLower.getHmin(p[0], delta, 1/2)\n",
    "\n",
    "    res_3['deltas'].append(delta)\n",
    "    res_3['vals'].append(val)\n",
    "    res_3['probas'].append(p)\n",
    "\n",
    "with open('Results/Hmin2_077_NoDT.json', 'w') as f:\n",
    "    json.dump(res_3, f)"
   ]
  },
  {
   "cell_type": "code",
   "execution_count": 12,
   "id": "2e0a25d1",
   "metadata": {},
   "outputs": [],
   "source": [
    "res_4 = {'deltas': [], 'probas': [], 'vals': []}\n",
    "\n",
    "for i in range(100):\n",
    "    alpha = sqrt(0.1 + i*0.03)\n",
    "    delta, p = simulation.doSimul(alpha, 1/2, '2', 100000, 0.77, True)\n",
    "    val = HminLower.getHmin(p[0], delta, 1/2)\n",
    "\n",
    "    res_4['deltas'].append(delta)\n",
    "    res_4['vals'].append(val)\n",
    "    res_4['probas'].append(p)\n",
    "\n",
    "with open('Results/Hmin2_077_DT.json', 'w') as f:\n",
    "    json.dump(res_4, f)"
   ]
  },
  {
   "cell_type": "code",
   "execution_count": 13,
   "id": "865f7a91",
   "metadata": {},
   "outputs": [],
   "source": [
    "res_5 = {'deltas': [], 'probas': [], 'vals': []}\n",
    "\n",
    "for i in range(100):\n",
    "    alpha = sqrt(0.1 + i*0.03)\n",
    "    delta, p = simulation.doSimul(alpha, 1/2, '2', 100000, 1, False)\n",
    "    p = utils.handle_non_phys(p, alpha, '2')\n",
    "    val = shannonLower.runOpti(delta, p[0], 1/2)\n",
    "\n",
    "    res_5['deltas'].append(delta)\n",
    "    res_5['vals'].append(val)\n",
    "    res_5['probas'].append(p)\n",
    "\n",
    "with open('Results/Shannon2_1_NoDT.json', 'w') as f:\n",
    "    json.dump(res_5, f)"
   ]
  },
  {
   "cell_type": "code",
   "execution_count": 14,
   "id": "3046a62a",
   "metadata": {},
   "outputs": [],
   "source": [
    "res_6 = {'deltas': [], 'probas': [], 'vals': []}\n",
    "\n",
    "for i in range(100):\n",
    "    alpha = sqrt(0.1 + i*0.03)\n",
    "    delta, p = simulation.doSimul(alpha, 1/2, '2', 100000, 1, False)\n",
    "    p = utils.handle_non_phys(p, alpha, '2')\n",
    "    val = HminLower.getHmin(p[0], delta, 1/2)\n",
    "\n",
    "    res_6['deltas'].append(delta)\n",
    "    res_6['vals'].append(val)\n",
    "    res_6['probas'].append(p)\n",
    "\n",
    "with open('Results/Hmin2_1_NoDT.json', 'w') as f:\n",
    "    json.dump(res_6, f)"
   ]
  },
  {
   "cell_type": "code",
   "execution_count": 37,
   "id": "ad4193eb",
   "metadata": {},
   "outputs": [
    {
     "data": {
      "text/plain": [
       "<matplotlib.legend.Legend at 0x11800e900>"
      ]
     },
     "execution_count": 37,
     "metadata": {},
     "output_type": "execute_result"
    },
    {
     "data": {
      "image/png": "[encoded data removed]",
      "text/plain": [
       "<Figure size 640x480 with 1 Axes>"
      ]
     },
     "metadata": {},
     "output_type": "display_data"
    }
   ],
   "source": [
    "plt.figure()\n",
    "plt.plot(res_1['deltas'], res_1['vals'], 'bx', label=\"Shannon - No Deadtime\")\n",
    "plt.plot(res_2['deltas'], res_2['vals'], 'bo', label=\"Shannon - Deadtime\")\n",
    "plt.plot(res_3['deltas'], res_3['vals'], 'rx', label=\"Hmin - No Deadtime\")\n",
    "plt.plot(res_4['deltas'], res_4['vals'], 'ro', label=\"Hmin - Deadtime\")\n",
    "plt.plot(res_5['deltas'], res_5['vals'], 'b.', label=\"Shannon - No loss\")\n",
    "plt.plot(res_6['deltas'], res_6['vals'], 'r.', label=\"Hmin - No loss\")\n",
    "plt.xlabel(\"delta\")\n",
    "plt.ylabel(\"Entropy\")\n",
    "plt.legend()"
   ]
  },
  {
   "cell_type": "markdown",
   "id": "bb53be37",
   "metadata": {},
   "source": [
    "## Taking delta -> 0"
   ]
  },
  {
   "cell_type": "code",
   "execution_count": 16,
   "id": "96780fc9",
   "metadata": {},
   "outputs": [],
   "source": [
    "alphas = np.linspace(1, 1000, 50)\n",
    "res01 = {'deltas': [], 'probas': [], 'vals': []}\n",
    "\n",
    "for alpha in alphas:\n",
    "    delta, p = simulation.doSimul(alpha, 1/2, '2', 100000, 0.77, False)\n",
    "    val = shannonLower.runOpti(delta, p[0], 1/2)\n",
    "\n",
    "    res01['deltas'].append(delta)\n",
    "    res01['vals'].append(val)\n",
    "    res01['probas'].append(p)\n",
    "\n",
    "with open('Results/Shannon2_077_NoDT_0.json', 'w') as f:\n",
    "    json.dump(res01, f)"
   ]
  },
  {
   "cell_type": "code",
   "execution_count": 17,
   "id": "acf189df",
   "metadata": {},
   "outputs": [],
   "source": [
    "alphas = np.linspace(1, 1000, 50)\n",
    "res02 = {'deltas': [], 'probas': [], 'vals': []}\n",
    "\n",
    "for alpha in alphas:\n",
    "    delta, p = simulation.doSimul(alpha, 1/2, '2', 100000, 0.77, True)\n",
    "    val = shannonLower.runOpti(delta, p[0], 1/2)\n",
    "\n",
    "    res02['deltas'].append(delta)\n",
    "    res02['vals'].append(val)\n",
    "    res02['probas'].append(p)\n",
    "\n",
    "with open('Results/Shannon2_077_DT_0.json', 'w') as f:\n",
    "    json.dump(res02, f)"
   ]
  },
  {
   "cell_type": "code",
   "execution_count": 18,
   "id": "c00739d6",
   "metadata": {},
   "outputs": [],
   "source": [
    "alphas = np.linspace(1, 1000, 50)\n",
    "res03 = {'deltas': [], 'probas': [], 'vals': []}\n",
    "\n",
    "for alpha in alphas:\n",
    "    delta, p = simulation.doSimul(alpha, 1/2, '2', 100000, 0.77, False)\n",
    "    val = HminLower.getHmin(p[0], delta, 1/2)\n",
    "\n",
    "    res03['deltas'].append(delta)\n",
    "    res03['vals'].append(val)\n",
    "    res03['probas'].append(p)\n",
    "\n",
    "with open('Results/Hmin2_077_NoDT_0.json', 'w') as f:\n",
    "    json.dump(res03, f)"
   ]
  },
  {
   "cell_type": "code",
   "execution_count": 19,
   "id": "b8931f06",
   "metadata": {},
   "outputs": [],
   "source": [
    "alphas = np.linspace(1, 1000, 50)\n",
    "res04 = {'deltas': [], 'probas': [], 'vals': []}\n",
    "\n",
    "for alpha in alphas:\n",
    "    delta, p = simulation.doSimul(alpha, 1/2, '2', 100000, 0.77, True)\n",
    "    val = HminLower.getHmin(p[0], delta, 1/2)\n",
    "\n",
    "    res04['deltas'].append(delta)\n",
    "    res04['vals'].append(val)\n",
    "    res04['probas'].append(p)\n",
    "\n",
    "with open('Results/Hmin2_077_DT_0.json', 'w') as f:\n",
    "    json.dump(res04, f)"
   ]
  },
  {
   "cell_type": "code",
   "execution_count": 20,
   "id": "7d459266",
   "metadata": {},
   "outputs": [],
   "source": [
    "alphas = np.linspace(1, 1000, 50)\n",
    "res05 = {'deltas': [], 'probas': [], 'vals': []}\n",
    "\n",
    "for alpha in alphas:\n",
    "    delta, p = simulation.doSimul(alpha, 1/2, '2', 100000, 1, False)\n",
    "    p = utils.handle_non_phys(p, alpha, '2')\n",
    "    val = shannonLower.runOpti(delta, p[0], 1/2)\n",
    "\n",
    "    res05['deltas'].append(delta)\n",
    "    res05['vals'].append(val)\n",
    "    res05['probas'].append(p)\n",
    "\n",
    "with open('Results/Shannon2_1_NoDT_0.json', 'w') as f:\n",
    "    json.dump(res05, f)"
   ]
  },
  {
   "cell_type": "code",
   "execution_count": 21,
   "id": "a4618395",
   "metadata": {},
   "outputs": [],
   "source": [
    "alphas = np.linspace(1, 1000, 50)\n",
    "res06 = {'deltas': [], 'probas': [], 'vals': []}\n",
    "\n",
    "for alpha in alphas:\n",
    "    delta, p = simulation.doSimul(alpha, 1/2, '2', 100000, 1, False)\n",
    "    p = utils.handle_non_phys(p, alpha, '2')\n",
    "    val = HminLower.getHmin(p[0], delta, 1/2)\n",
    "\n",
    "    res06['deltas'].append(delta)\n",
    "    res06['vals'].append(val)\n",
    "    res06['probas'].append(p)\n",
    "\n",
    "with open('Results/Hmin2_1_NoDT_0.json', 'w') as f:\n",
    "    json.dump(res06, f)"
   ]
  },
  {
   "cell_type": "code",
   "execution_count": 39,
   "id": "acaf7eb4",
   "metadata": {},
   "outputs": [
    {
     "data": {
      "text/plain": [
       "<matplotlib.legend.Legend at 0x118004140>"
      ]
     },
     "execution_count": 39,
     "metadata": {},
     "output_type": "execute_result"
    },
    {
     "data": {
      "image/png": "[encoded data removed]",
      "text/plain": [
       "<Figure size 640x480 with 1 Axes>"
      ]
     },
     "metadata": {},
     "output_type": "display_data"
    }
   ],
   "source": [
    "alphas = np.linspace(1, 1000, 50)\n",
    "plt.figure()\n",
    "plt.plot(alphas, res01['vals'], 'bx', label=\"Shannon - No Deadtime\")\n",
    "plt.plot(alphas, res02['vals'], 'bo', label=\"Shannon - Deadtime\")\n",
    "plt.plot(alphas, res03['vals'], 'rx', label=\"Hmin - No Deadtime\")\n",
    "plt.plot(alphas, res04['vals'], 'ro', label=\"Hmin - Deadtime\")\n",
    "plt.plot(alphas, res05['vals'], 'b.', label=\"Shannon - No loss\")\n",
    "plt.plot(alphas, res06['vals'], 'r.', label=\"Hmin - No loss\")\n",
    "plt.xscale('log')\n",
    "plt.xlabel(\"alpha\")\n",
    "plt.ylabel(\"Entropy\")\n",
    "plt.legend()"
   ]
  },
  {
   "cell_type": "code",
   "execution_count": 23,
   "id": "966f15fd",
   "metadata": {},
   "outputs": [],
   "source": [
    "alphas = np.linspace(1, 1000, 50)\n",
    "res01_ = {'deltas': [], 'probas': [], 'vals': []}\n",
    "\n",
    "for alpha in alphas:\n",
    "    delta, p = simulation.doSimul(alpha, 7/8, '1', 100000, 0.77, False)\n",
    "    val = shannonLower.runOpti(delta, p[0], 7/8)\n",
    "\n",
    "    res01_['deltas'].append(delta)\n",
    "    res01_['vals'].append(val)\n",
    "    res01_['probas'].append(p)\n",
    "\n",
    "with open('Results/Shannon1_077_NoDT_0.json', 'w') as f:\n",
    "    json.dump(res01_, f)"
   ]
  },
  {
   "cell_type": "code",
   "execution_count": 24,
   "id": "d7410e96",
   "metadata": {},
   "outputs": [],
   "source": [
    "alphas = np.linspace(1, 1000, 50)\n",
    "res02_ = {'deltas': [], 'probas': [], 'vals': []}\n",
    "\n",
    "for alpha in alphas:\n",
    "    delta, p = simulation.doSimul(alpha, 7/8, '1', 100000, 0.77, True)\n",
    "    val = shannonLower.runOpti(delta, p[0], 7/8)\n",
    "\n",
    "    res02_['deltas'].append(delta)\n",
    "    res02_['vals'].append(val)\n",
    "    res02_['probas'].append(p)\n",
    "\n",
    "with open('Results/Shannon1_077_DT_0.json', 'w') as f:\n",
    "    json.dump(res02_, f)"
   ]
  },
  {
   "cell_type": "code",
   "execution_count": 25,
   "id": "4c28b15c",
   "metadata": {},
   "outputs": [],
   "source": [
    "alphas = np.linspace(1, 1000, 50)\n",
    "res03_ = {'deltas': [], 'probas': [], 'vals': []}\n",
    "\n",
    "for alpha in alphas:\n",
    "    delta, p = simulation.doSimul(alpha, 7/8, '1', 100000, 0.77, False)\n",
    "    val = HminLower.getHmin(p[0], delta, 7/8)\n",
    "\n",
    "    res03_['deltas'].append(delta)\n",
    "    res03_['vals'].append(val)\n",
    "    res03_['probas'].append(p)\n",
    "\n",
    "with open('Results/Hmin1_077_NoDT_0.json', 'w') as f:\n",
    "    json.dump(res03_, f)"
   ]
  },
  {
   "cell_type": "code",
   "execution_count": 26,
   "id": "6aa89d8c",
   "metadata": {},
   "outputs": [],
   "source": [
    "alphas = np.linspace(1, 1000, 50)\n",
    "res04_ = {'deltas': [], 'probas': [], 'vals': []}\n",
    "\n",
    "for alpha in alphas:\n",
    "    delta, p = simulation.doSimul(alpha, 7/8, '1', 100000, 0.77, True)\n",
    "    val = HminLower.getHmin(p[0], delta, 7/8)\n",
    "\n",
    "    res04_['deltas'].append(delta)\n",
    "    res04_['vals'].append(val)\n",
    "    res04_['probas'].append(p)\n",
    "\n",
    "with open('Results/Hmin1_077_DT_0.json', 'w') as f:\n",
    "    json.dump(res04_, f)"
   ]
  },
  {
   "cell_type": "code",
   "execution_count": 27,
   "id": "675d453e",
   "metadata": {},
   "outputs": [],
   "source": [
    "alphas = np.linspace(1, 1000, 50)\n",
    "res05_ = {'deltas': [], 'probas': [], 'vals': []}\n",
    "\n",
    "for alpha in alphas:\n",
    "    delta, p = simulation.doSimul(alpha, 7/8, '1', 100000, 1, False)\n",
    "    p = utils.handle_non_phys(p, alpha, '1')\n",
    "    val = shannonLower.runOpti(delta, p[0], 7/8)\n",
    "\n",
    "    res05_['deltas'].append(delta)\n",
    "    res05_['vals'].append(val)\n",
    "    res05_['probas'].append(p)\n",
    "\n",
    "with open('Results/Shannon1_1_NoDT_0.json', 'w') as f:\n",
    "    json.dump(res05_, f)"
   ]
  },
  {
   "cell_type": "code",
   "execution_count": 28,
   "id": "b07dd50e",
   "metadata": {},
   "outputs": [],
   "source": [
    "alphas = np.linspace(1, 1000, 50)\n",
    "res06_ = {'deltas': [], 'probas': [], 'vals': []}\n",
    "\n",
    "for alpha in alphas:\n",
    "    delta, p = simulation.doSimul(alpha, 7/8, '1', 100000, 1, False)\n",
    "    p = utils.handle_non_phys(p, alpha, '1')\n",
    "    val = HminLower.getHmin(p[0], delta, 7/8)\n",
    "\n",
    "    res06_['deltas'].append(delta)\n",
    "    res06_['vals'].append(val)\n",
    "    res06_['probas'].append(p)\n",
    "\n",
    "with open('Results/Hmin1_1_NoDT_0.json', 'w') as f:\n",
    "    json.dump(res06_, f)"
   ]
  },
  {
   "cell_type": "code",
   "execution_count": 40,
   "id": "0f1f2517",
   "metadata": {},
   "outputs": [
    {
     "data": {
      "text/plain": [
       "<matplotlib.legend.Legend at 0x1181b7170>"
      ]
     },
     "execution_count": 40,
     "metadata": {},
     "output_type": "execute_result"
    },
    {
     "data": {
      "image/png": "[encoded data removed]",
      "text/plain": [
       "<Figure size 640x480 with 1 Axes>"
      ]
     },
     "metadata": {},
     "output_type": "display_data"
    }
   ],
   "source": [
    "alphas = np.linspace(1, 1000, 50)\n",
    "plt.figure()\n",
    "plt.plot(alphas, res01_['vals'], 'bx', label=\"Shannon - No Deadtime\")\n",
    "plt.plot(alphas, res02_['vals'], 'bo', label=\"Shannon - Deadtime\")\n",
    "plt.plot(alphas, res03_['vals'], 'rx', label=\"Hmin - No Deadtime\")\n",
    "plt.plot(alphas, res04_['vals'], 'ro', label=\"Hmin - Deadtime\")\n",
    "plt.plot(alphas, res05_['vals'], 'b.', label=\"Shannon - No loss\")\n",
    "plt.plot(alphas, res06_['vals'], 'r.', label=\"Hmin - No loss\")\n",
    "plt.xscale('log')\n",
    "plt.xlabel(\"alpha\")\n",
    "plt.ylabel(\"Entropy\")\n",
    "plt.legend()"
   ]
  },
  {
   "cell_type": "code",
   "execution_count": null,
   "id": "b23929b9",
   "metadata": {},
   "outputs": [],
   "source": []
  },
  {
   "cell_type": "code",
   "execution_count": null,
   "id": "f4ce85c9",
   "metadata": {},
   "outputs": [],
   "source": []
  },
  {
   "cell_type": "code",
   "execution_count": null,
   "id": "cf7f65b7",
   "metadata": {},
   "outputs": [],
   "source": []
  },
  {
   "cell_type": "code",
   "execution_count": null,
   "id": "c6036a61",
   "metadata": {},
   "outputs": [],
   "source": []
  },
  {
   "cell_type": "code",
   "execution_count": null,
   "id": "cc77756b",
   "metadata": {},
   "outputs": [],
   "source": []
  },
  {
   "cell_type": "code",
   "execution_count": null,
   "id": "9ebb3a90",
   "metadata": {},
   "outputs": [],
   "source": []
  },
  {
   "cell_type": "code",
   "execution_count": null,
   "id": "bfac1dee",
   "metadata": {},
   "outputs": [],
   "source": []
  },
  {
   "cell_type": "code",
   "execution_count": null,
   "id": "3905b826",
   "metadata": {},
   "outputs": [],
   "source": []
  },
  {
   "cell_type": "code",
   "execution_count": null,
   "id": "4746af51",
   "metadata": {},
   "outputs": [],
   "source": []
  },
  {
   "cell_type": "code",
   "execution_count": null,
   "id": "19fc2c43",
   "metadata": {},
   "outputs": [],
   "source": []
  },
  {
   "cell_type": "code",
   "execution_count": null,
   "id": "a9277fc1",
   "metadata": {},
   "outputs": [],
   "source": []
  },
  {
   "cell_type": "code",
   "execution_count": null,
   "id": "0e1ebb2b",
   "metadata": {},
   "outputs": [],
   "source": []
  },
  {
   "cell_type": "code",
   "execution_count": null,
   "id": "bb1217cd",
   "metadata": {},
   "outputs": [],
   "source": []
  },
  {
   "cell_type": "code",
   "execution_count": null,
   "id": "120a422e",
   "metadata": {},
   "outputs": [],
   "source": []
  }
 ],
 "metadata": {
  "kernelspec": {
   "display_name": "mosek",
   "language": "python",
   "name": "python3"
  },
  "language_info": {
   "codemirror_mode": {
    "name": "ipython",
    "version": 3
   },
   "file_extension": ".py",
   "mimetype": "text/x-python",
   "name": "python",
   "nbconvert_exporter": "python",
   "pygments_lexer": "ipython3",
   "version": "3.12.9"
  }
 },
 "nbformat": 4,
 "nbformat_minor": 5
}
