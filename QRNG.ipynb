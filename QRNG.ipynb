{
 "cells": [
  {
   "cell_type": "code",
   "execution_count": 1,
   "metadata": {},
   "outputs": [],
   "source": [
    "import qutip as qt\n",
    "import numpy as np\n",
    "from math import sqrt\n",
    "import cvxpy as cp"
   ]
  },
  {
   "cell_type": "code",
   "execution_count": 2,
   "metadata": {},
   "outputs": [],
   "source": [
    "N=20"
   ]
  },
  {
   "cell_type": "code",
   "execution_count": 3,
   "metadata": {},
   "outputs": [],
   "source": [
    "N = 20 #truncation of Fock space\n",
    "alpha = sqrt(0.6) #take alpha < 1\n",
    "\n",
    "psi_0 = qt.coherent(N, 0) #vacuum state\n",
    "psi_1 = qt.coherent(N, alpha)\n",
    "\n",
    "delta = abs((psi_0.dag() * psi_1)) #overlap"
   ]
  },
  {
   "cell_type": "code",
   "execution_count": 4,
   "metadata": {},
   "outputs": [
    {
     "data": {
      "text/plain": [
       "0.7408182206817177"
      ]
     },
     "execution_count": 4,
     "metadata": {},
     "output_type": "execute_result"
    }
   ],
   "source": [
    "delta"
   ]
  },
  {
   "cell_type": "code",
   "execution_count": 5,
   "metadata": {},
   "outputs": [
    {
     "data": {
      "text/latex": [
       "Quantum object: dims=[[20], [1]], shape=(20, 1), type='ket', dtype=Dense$$\\left(\\begin{array}{cc}0.741\\\\0.574\\\\0.314\\\\0.141\\\\0.054\\\\\\vdots\\\\1.405\\times10^{ -8 }\\\\2.720\\times10^{ -9 }\\\\5.111\\times10^{ -10 }\\\\9.323\\times10^{ -11 }\\\\1.706\\times10^{ -11 }\\end{array}\\right)$$"
      ],
      "text/plain": [
       "Quantum object: dims=[[20], [1]], shape=(20, 1), type='ket', dtype=Dense\n",
       "Qobj data =\n",
       "[[7.40818221e-01]\n",
       " [5.73835326e-01]\n",
       " [3.14302552e-01]\n",
       " [1.40560375e-01]\n",
       " [5.44387990e-02]\n",
       " [1.88581531e-02]\n",
       " [5.96347164e-03]\n",
       " [1.74592572e-03]\n",
       " [4.78141451e-04]\n",
       " [1.23455592e-04]\n",
       " [3.02403206e-05]\n",
       " [7.06261729e-06]\n",
       " [1.57924924e-06]\n",
       " [3.39277160e-07]\n",
       " [7.02370450e-08]\n",
       " [1.40474092e-08]\n",
       " [2.72026765e-09]\n",
       " [5.11060111e-10]\n",
       " [9.32311329e-11]\n",
       " [1.70560106e-11]]"
      ]
     },
     "execution_count": 5,
     "metadata": {},
     "output_type": "execute_result"
    }
   ],
   "source": [
    "psi_1"
   ]
  },
  {
   "cell_type": "code",
   "execution_count": 3,
   "metadata": {},
   "outputs": [],
   "source": [
    "M1 = qt.qeye(N) - qt.fock(N,0) * qt.fock(N,0).dag() #the detector clicks for any number of photons (?)"
   ]
  },
  {
   "cell_type": "code",
   "execution_count": 4,
   "metadata": {},
   "outputs": [],
   "source": [
    "def measure(state, eff=1):\n",
    "    prob = abs((state.dag() * M1 * state).real)\n",
    "    if np.random.rand() < prob:\n",
    "        if np.random.rand() < eff:\n",
    "            return 1\n",
    "        else:\n",
    "            return 0\n",
    "    else:\n",
    "        return 0"
   ]
  },
  {
   "cell_type": "code",
   "execution_count": 5,
   "metadata": {},
   "outputs": [],
   "source": [
    "def pick_x(px1):\n",
    "    if np.random.rand() < px1:\n",
    "        return 1\n",
    "    else:\n",
    "        return 0"
   ]
  },
  {
   "cell_type": "code",
   "execution_count": 8,
   "metadata": {},
   "outputs": [],
   "source": [
    "data = []\n",
    "\n",
    "for i in range(100000):\n",
    "    x = pick_x(7/8)\n",
    "    if x:\n",
    "        b = measure(psi_1, 0.77)\n",
    "        data.append((b,x))\n",
    "    else:\n",
    "        b = measure(psi_0, 0.77)\n",
    "        data.append((b,x))"
   ]
  },
  {
   "cell_type": "code",
   "execution_count": 6,
   "metadata": {},
   "outputs": [],
   "source": [
    "def get_stat(data):\n",
    "    N_0 = 0\n",
    "    N_1 = 0\n",
    "    Ninc_0 = 0\n",
    "    Ninc_1 = 0\n",
    "    N1_0 = 0\n",
    "    N1_1 = 0\n",
    "\n",
    "    for d in data:\n",
    "        if d[1] :\n",
    "            N_1 += 1\n",
    "            if d[0]:\n",
    "                N1_1 += 1\n",
    "            else:\n",
    "                Ninc_1 += 1\n",
    "        else:                \n",
    "            N_0 += 1\n",
    "            if d[0]:\n",
    "                N1_0 += 1\n",
    "            else:\n",
    "                Ninc_0 += 1\n",
    "\n",
    "    pinc_0 = Ninc_0/N_0\n",
    "    pinc_1 = Ninc_1/N_1\n",
    "    p1_0 = N1_0/N_0\n",
    "    p1_1 = N1_1/N_1\n",
    "\n",
    "    return pinc_0, pinc_1, p1_0, p1_1, Ninc_0, Ninc_1, N1_0, N1_1, N_0, N_1"
   ]
  },
  {
   "cell_type": "code",
   "execution_count": 10,
   "metadata": {},
   "outputs": [],
   "source": [
    "pinc_0, pinc_1, p1_0, p1_1, Ninc_0, Ninc_1, N1_0, N1_1, N_0, N_1 = get_stat(data)"
   ]
  },
  {
   "cell_type": "code",
   "execution_count": 11,
   "metadata": {},
   "outputs": [
    {
     "data": {
      "text/plain": [
       "(1.0,\n",
       " 0.654035224421043,\n",
       " 0.0,\n",
       " 0.345964775578957,\n",
       " 12731,\n",
       " 57077,\n",
       " 0,\n",
       " 30192,\n",
       " 12731,\n",
       " 87269)"
      ]
     },
     "execution_count": 11,
     "metadata": {},
     "output_type": "execute_result"
    }
   ],
   "source": [
    "pinc_0, pinc_1, p1_0, p1_1, Ninc_0, Ninc_1, N1_0, N1_1, N_0, N_1"
   ]
  },
  {
   "cell_type": "code",
   "execution_count": 21,
   "metadata": {},
   "outputs": [
    {
     "data": {
      "text/plain": [
       "0.9225431808049748"
      ]
     },
     "execution_count": 21,
     "metadata": {},
     "output_type": "execute_result"
    }
   ],
   "source": [
    "(1/8 + 7*pinc_1/8)"
   ]
  },
  {
   "cell_type": "code",
   "execution_count": 7,
   "metadata": {},
   "outputs": [],
   "source": [
    "def get_pg(pinc_0, pinc_1, p1_0, p1_1, delta):\n",
    "\n",
    "    H00 = cp.Variable((2,2), hermitian = True)\n",
    "    H01 = cp.Variable((2,2), hermitian = True)\n",
    "    H10 = cp.Variable((2,2), hermitian = True)\n",
    "    H11 = cp.Variable((2,2), hermitian = True)\n",
    "\n",
    "    muinc0 = cp.Variable(1)\n",
    "    muinc1 = cp.Variable(1)\n",
    "    mu00 = cp.Variable(1)\n",
    "    mu01 = cp.Variable(1)\n",
    "    mu10 = cp.Variable(1)\n",
    "    mu11 = cp.Variable(1)\n",
    "\n",
    "    rho0 = np.array([[1.,0],[0,0]])\n",
    "    rho1 = np.array([[delta**2, delta*np.sqrt(1-delta**2)], [delta*np.sqrt(1-delta**2), 1-delta**2]]) #use qubits as in appendix, might be wrong. Also states not normalized so maybe problem.\n",
    "    rho1 = rho1 / np.trace(rho1)\n",
    "\n",
    "    constraints = [(rho0 * (1/8 - muinc0) + rho1 * (7/8 - muinc1) + H00 - 0.5*cp.trace(H00)*np.eye(2)) << 0]\n",
    "    constraints += [(rho0 * (1/8 - muinc0) - rho1 * (muinc1) + H01 - 0.5*cp.trace(H01)*np.eye(2)) << 0]\n",
    "    constraints += [(-rho0 * (muinc0) + rho1 * (7/8 - muinc1) + H10 - 0.5*cp.trace(H10)*np.eye(2)) << 0]\n",
    "    constraints += [(-rho0 * (muinc0) - rho1 * (muinc1) + H11 - 0.5*cp.trace(H11)*np.eye(2)) << 0]\n",
    "\n",
    "    constraints += [(-rho0 * (mu00) - rho1 * (mu01) + H00 - 0.5*cp.trace(H00)*np.eye(2)) << 0] #These are useless\n",
    "    constraints += [(-rho0 * (mu00) + rho1 * (7/8 - mu01) + H01 - 0.5*cp.trace(H01)*np.eye(2)) << 0]\n",
    "    constraints += [(rho0 * (1/8 - mu00) - rho1 * (mu01) + H10 - 0.5*cp.trace(H10)*np.eye(2)) << 0]\n",
    "    constraints += [(rho0 * (1/8 - mu00) + rho1 * (7/8 - mu01) + H11 - 0.5*cp.trace(H11)*np.eye(2)) << 0]\n",
    "\n",
    "    constraints += [(-rho0 * (mu10) - rho1 * (mu11) + H00 - 0.5*cp.trace(H00)*np.eye(2)) << 0]\n",
    "    constraints += [(-rho0 * (mu10) + rho1 * (7/8 - mu11) + H01 - 0.5*cp.trace(H01)*np.eye(2)) << 0]\n",
    "    constraints += [(rho0 * (1/8 - mu10) - rho1 * (mu11) + H10 - 0.5*cp.trace(H10)*np.eye(2)) << 0]\n",
    "    constraints += [(rho0 * (1/8 - mu10) + rho1 * (7/8 - mu11) + H11 - 0.5*cp.trace(H11)*np.eye(2)) << 0]\n",
    "\n",
    "    obj = cp.real((muinc0 * pinc_0 + muinc1 * pinc_1 + mu10 * p1_0 + mu11 * p1_1))\n",
    "                    # cp.abs(muinc0) * t(10**(-9), Ninc_0+N1_0) - cp.abs(muinc1) * t(10**(-9), Ninc_1+N1_1) - cp.abs(mu10) * t(10**(-9), Ninc_0+N1_0) - \n",
    "                    # cp.abs(mu11) * t(10**(-9), Ninc_1+N1_1)))\n",
    "\n",
    "    prob = cp.Problem(cp.Minimize(obj), constraints)\n",
    "    prob.solve(solver = \"MOSEK\")\n",
    "\n",
    "    return prob.value"
   ]
  },
  {
   "cell_type": "code",
   "execution_count": 8,
   "metadata": {},
   "outputs": [],
   "source": [
    "vals = []\n",
    "vals2 = []\n",
    "alphas = []\n",
    "N = 20\n",
    "\n",
    "for i in range(100):\n",
    "\n",
    "    alpha = sqrt(0.1 + i*0.05)\n",
    "    \n",
    "    psi_0 = qt.coherent(N, 0) #vacuum state\n",
    "    psi_1 = qt.coherent(N, alpha)\n",
    "\n",
    "    delta = abs((psi_0.dag() * psi_1)) #overlap\n",
    "\n",
    "    data = []\n",
    "\n",
    "    for i in range(100000):\n",
    "        x = pick_x(7/8)\n",
    "        if x:\n",
    "            b = measure(psi_1, 0.77)\n",
    "            data.append((b,x))\n",
    "        else:\n",
    "            b = measure(psi_0, 0.77)\n",
    "            data.append((b,x))\n",
    "    \n",
    "    pinc_0, pinc_1, p1_0, p1_1, Ninc_0, Ninc_1, N1_0, N1_1, N_0, N_1 = get_stat(data)\n",
    "\n",
    "    if pinc_1 >= p1_1:\n",
    "        vals2.append(1/8 + 7/8*pinc_1)\n",
    "    else:\n",
    "        vals2.append(1/8 + 7/8*p1_1)\n",
    "\n",
    "    val = get_pg(pinc_0, pinc_1, p1_0, p1_1, delta)\n",
    "    vals.append(val)\n",
    "    alphas.append(alpha)\n",
    "  "
   ]
  },
  {
   "cell_type": "code",
   "execution_count": 9,
   "metadata": {},
   "outputs": [],
   "source": [
    "import matplotlib.pyplot as plt"
   ]
  },
  {
   "cell_type": "code",
   "execution_count": 12,
   "metadata": {},
   "outputs": [],
   "source": [
    "hmins = []\n",
    "hmins2 = []\n",
    "\n",
    "for v in vals:\n",
    "    hmins.append(-np.log2(v))\n",
    "\n",
    "# for v in vals2:\n",
    "#     hmins2.append(-np.log2(v))"
   ]
  },
  {
   "cell_type": "code",
   "execution_count": 11,
   "metadata": {},
   "outputs": [
    {
     "data": {
      "text/plain": [
       "<matplotlib.legend.Legend at 0x1104b58b0>"
      ]
     },
     "execution_count": 11,
     "metadata": {},
     "output_type": "execute_result"
    },
    {
     "data": {
      "image/png": "[encoded data removed]",
      "text/plain": [
       "<Figure size 640x480 with 1 Axes>"
      ]
     },
     "metadata": {},
     "output_type": "display_data"
    }
   ],
   "source": [
    "plt.figure()\n",
    "plt.plot(alphas, hmins, 'rx', label=\"SDP\")\n",
    "plt.plot(alphas, hmins2, 'bx', label=\"P(x=0)*P(c) + P(x=1)*P(c)\")\n",
    "plt.xlabel(\"alpha\")\n",
    "plt.ylabel(\"Hmin\")\n",
    "plt.legend()"
   ]
  },
  {
   "cell_type": "code",
   "execution_count": 7,
   "metadata": {},
   "outputs": [],
   "source": [
    "from scipy.special import betaincinv as beta"
   ]
  },
  {
   "cell_type": "code",
   "execution_count": 8,
   "metadata": {},
   "outputs": [],
   "source": [
    "def qhat(alpha, N, Ntot, Nbx):\n",
    "    return 1 - beta(Nbx/Ntot * N, N*(1-Nbx/Ntot)+1, alpha)"
   ]
  },
  {
   "cell_type": "code",
   "execution_count": 9,
   "metadata": {},
   "outputs": [],
   "source": [
    "def get_pg(alphaF, N, Ntot, Ninc_0, Ninc_1, N1_0, N1_1, delta):\n",
    "\n",
    "    H00 = cp.Variable((2,2), hermitian = True)\n",
    "    H01 = cp.Variable((2,2), hermitian = True)\n",
    "    H10 = cp.Variable((2,2), hermitian = True)\n",
    "    H11 = cp.Variable((2,2), hermitian = True)\n",
    "\n",
    "    muinc0 = cp.Variable(1)\n",
    "    muinc1 = cp.Variable(1)\n",
    "    mu00 = cp.Variable(1)\n",
    "    mu01 = cp.Variable(1)\n",
    "    mu10 = cp.Variable(1)\n",
    "    mu11 = cp.Variable(1)\n",
    "\n",
    "    rho0 = np.array([[1.,0],[0,0]])\n",
    "    rho1 = np.array([[delta**2, delta*np.sqrt(1-delta**2)], [delta*np.sqrt(1-delta**2), 1-delta**2]]) #use qubits as in appendix, might be wrong. Also states not normalized so maybe problem.\n",
    "    rho1 = rho1 / np.trace(rho1)\n",
    "\n",
    "    constraints = [(rho0 * (1/8 - muinc0) + rho1 * (7/8 - muinc1) + H00 - 0.5*cp.trace(H00)*np.eye(2)) << 0]\n",
    "    constraints += [(rho0 * (1/8 - muinc0) - rho1 * (muinc1) + H01 - 0.5*cp.trace(H01)*np.eye(2)) << 0]\n",
    "    constraints += [(-rho0 * (muinc0) + rho1 * (7/8 - muinc1) + H10 - 0.5*cp.trace(H10)*np.eye(2)) << 0]\n",
    "    constraints += [(-rho0 * (muinc0) - rho1 * (muinc1) + H11 - 0.5*cp.trace(H11)*np.eye(2)) << 0]\n",
    "\n",
    "    constraints += [(-rho0 * (mu00) - rho1 * (mu01) + H00 - 0.5*cp.trace(H00)*np.eye(2)) << 0] #These are useless\n",
    "    constraints += [(-rho0 * (mu00) + rho1 * (7/8 - mu01) + H01 - 0.5*cp.trace(H01)*np.eye(2)) << 0]\n",
    "    constraints += [(rho0 * (1/8 - mu00) - rho1 * (mu01) + H10 - 0.5*cp.trace(H10)*np.eye(2)) << 0]\n",
    "    constraints += [(rho0 * (1/8 - mu00) + rho1 * (7/8 - mu01) + H11 - 0.5*cp.trace(H11)*np.eye(2)) << 0]\n",
    "\n",
    "    constraints += [(-rho0 * (mu10) - rho1 * (mu11) + H00 - 0.5*cp.trace(H00)*np.eye(2)) << 0]\n",
    "    constraints += [(-rho0 * (mu10) + rho1 * (7/8 - mu11) + H01 - 0.5*cp.trace(H01)*np.eye(2)) << 0]\n",
    "    constraints += [(rho0 * (1/8 - mu10) - rho1 * (mu11) + H10 - 0.5*cp.trace(H10)*np.eye(2)) << 0]\n",
    "    constraints += [(rho0 * (1/8 - mu10) + rho1 * (7/8 - mu11) + H11 - 0.5*cp.trace(H11)*np.eye(2)) << 0]\n",
    "\n",
    "    constraints += [muinc0 >= 0, muinc1 >= 0, mu00 >= 0, mu01 >= 0, mu10 >= 0, mu11 >= 0]\n",
    "\n",
    "    qhatinc0 = qhat(alphaF, N, Ntot, Ninc_0)\n",
    "    # print(qhatinc0)\n",
    "    qhatinc1 = qhat(alphaF, N, Ntot, Ninc_1)\n",
    "    # print(qhatinc1)\n",
    "    qhat10 = qhat(alphaF, N, Ntot, N1_0)\n",
    "    # print(qhat10)\n",
    "    qhat11 = qhat(alphaF, N, Ntot, N1_1)\n",
    "    # print(qhat11)\n",
    "\n",
    "    obj = cp.real(muinc0/(1/8) * qhatinc0 + muinc1/(7/8) * qhatinc1 + mu11/(7/8) * qhat11)\n",
    "\n",
    "    prob = cp.Problem(cp.Minimize(obj), constraints)\n",
    "    prob.solve(solver=\"MOSEK\")\n",
    "\n",
    "    return prob.value"
   ]
  },
  {
   "cell_type": "code",
   "execution_count": 10,
   "metadata": {},
   "outputs": [],
   "source": [
    "vals = []\n",
    "alphas = []\n",
    "N = 20\n",
    "\n",
    "for i in range(100):\n",
    "\n",
    "    alpha = sqrt(0.1 + i*0.05)\n",
    "    \n",
    "    psi_0 = qt.coherent(N, 0) #vacuum state\n",
    "    psi_1 = qt.coherent(N, alpha)\n",
    "\n",
    "    delta = abs((psi_0.dag() * psi_1)) #overlap\n",
    "\n",
    "    data = []\n",
    "\n",
    "    for i in range(100000):\n",
    "        x = pick_x(7/8)\n",
    "        if x:\n",
    "            b = measure(psi_1, 0.77)\n",
    "            data.append((b,x))\n",
    "        else:\n",
    "            b = measure(psi_0, 0.77)\n",
    "            data.append((b,x))\n",
    "    \n",
    "    pinc_0, pinc_1, p1_0, p1_1, Ninc_0, Ninc_1, N1_0, N1_1, N_0, N_1 = get_stat(data)\n",
    "\n",
    "    val = get_pg(10**(-9), N, 100000, Ninc_0, Ninc_1, N1_0, N1_1, delta)\n",
    "    vals.append(val)\n",
    "    alphas.append(alpha)\n",
    "  "
   ]
  },
  {
   "cell_type": "code",
   "execution_count": 11,
   "metadata": {},
   "outputs": [],
   "source": [
    "import matplotlib.pyplot as plt"
   ]
  },
  {
   "cell_type": "code",
   "execution_count": 13,
   "metadata": {},
   "outputs": [
    {
     "data": {
      "text/plain": [
       "[<matplotlib.lines.Line2D at 0x11c291e20>]"
      ]
     },
     "execution_count": 13,
     "metadata": {},
     "output_type": "execute_result"
    },
    {
     "data": {
      "image/png": "[encoded data removed]",
      "text/plain": [
       "<Figure size 640x480 with 1 Axes>"
      ]
     },
     "metadata": {},
     "output_type": "display_data"
    }
   ],
   "source": [
    "plt.plot(alphas, hmins)"
   ]
  },
  {
   "cell_type": "code",
   "execution_count": 23,
   "metadata": {},
   "outputs": [
    {
     "data": {
      "text/plain": [
       "np.float64(2.624456368758578)"
      ]
     },
     "execution_count": 23,
     "metadata": {},
     "output_type": "execute_result"
    }
   ],
   "source": [
    "Minc_00 = cp.Variable((2,2), hermitian = True)\n",
    "Minc_01 = cp.Variable((2,2), hermitian = True)\n",
    "Minc_10 = cp.Variable((2,2), hermitian = True)\n",
    "Minc_11 = cp.Variable((2,2), hermitian = True)\n",
    "\n",
    "M0_00 = cp.Variable((2,2), hermitian = True)\n",
    "M0_01 = cp.Variable((2,2), hermitian = True)\n",
    "M0_10 = cp.Variable((2,2), hermitian = True)\n",
    "M0_11 = cp.Variable((2,2), hermitian = True)\n",
    "\n",
    "M1_00 = cp.Variable((2,2), hermitian = True)\n",
    "M1_01 = cp.Variable((2,2), hermitian = True)\n",
    "M1_10 = cp.Variable((2,2), hermitian = True)\n",
    "M1_11 = cp.Variable((2,2), hermitian = True)\n",
    "\n",
    "rho0 = np.array([[1,0],[0,0]])\n",
    "rho1 = np.array([[delta**2, delta*np.sqrt(1-delta**2)], [delta*np.sqrt(1-delta**2), 1-delta**2]]) #use qubits as in appendix, might be wrong. Also states not normalized so maybe problem.\n",
    "rho1 = rho1 / np.trace(rho1)\n",
    "\n",
    "constraints = [Minc_00 >> 0, Minc_01 >> 0, Minc_10 >> 0, Minc_11 >> 0, M0_00 >> 0, M0_01 >> 0, M0_10 >> 0, M0_11 >> 0, M1_00 >> 0, M1_01 >> 0, M1_10 >> 0, M1_11 >> 0]\n",
    "\n",
    "constraints += [Minc_00 + M0_00 + M1_00 == 0.5*cp.trace(Minc_00+M0_00+M1_00)*np.eye(2), Minc_01 + M0_01 + M1_01 == 0.5*cp.trace(Minc_01+M0_01+M1_01)*np.eye(2),\n",
    "Minc_10 + M0_10 + M1_10 == 0.5*cp.trace(Minc_10+M0_10+M1_10)*np.eye(2), Minc_11 + M0_11 + M1_11 == 0.5*cp.trace(Minc_11+M0_11+M1_11)*np.eye(2)]\n",
    "\n",
    "constraints += [cp.trace(rho0@Minc_00) + cp.trace(rho0@Minc_01) + cp.trace(rho0@Minc_10) + cp.trace(rho0@Minc_11) == pinc_0]\n",
    "constraints += [cp.trace(rho1@Minc_00) + cp.trace(rho1@Minc_01) + cp.trace(rho1@Minc_10) + cp.trace(rho1@Minc_11) == pinc_1]\n",
    "\n",
    "constraints += [cp.trace(rho0@M0_00) + cp.trace(rho0@M0_01) + cp.trace(rho0@M0_10) + cp.trace(rho0@M0_11) == 0.] #p(0|0) = p(0|1) = 0 bc never b=0\n",
    "constraints += [cp.trace(rho1@M0_00) + cp.trace(rho1@M0_01) + cp.trace(rho1@M0_10) + cp.trace(rho1@M0_11) == 0.]\n",
    "\n",
    "constraints += [cp.trace(rho0@M1_00) + cp.trace(rho0@M1_01) + cp.trace(rho0@M1_10) + cp.trace(rho0@M1_11) == p1_0]\n",
    "constraints += [cp.trace(rho1@M1_00) + cp.trace(rho1@M1_01) + cp.trace(rho1@M1_10) + cp.trace(rho1@M1_11) == p1_1]\n",
    "\n",
    "obj = cp.real(0.5*(cp.trace(rho0@Minc_00) + cp.trace(rho0@Minc_01) + cp.trace(rho0 @ (np.eye(2) - Minc_10)) + cp.trace(rho0 @ (np.eye(2) - Minc_11))\n",
    "                + cp.trace(rho1@Minc_00) + cp.trace(rho1 @ (np.eye(2) - Minc_01)) + cp.trace(rho1 @ Minc_10) + cp.trace(rho1 @ (np.eye(2) - Minc_11))))\n",
    "\n",
    "prob = cp.Problem(cp.Maximize(obj), constraints)\n",
    "prob.solve()"
   ]
  },
  {
   "cell_type": "code",
   "execution_count": 84,
   "metadata": {},
   "outputs": [],
   "source": [
    "psi = qt.fock(N,1) * 1/np.sqrt(2) + qt.fock(N,0) * 1/np.sqrt(2)"
   ]
  },
  {
   "cell_type": "code",
   "execution_count": 86,
   "metadata": {},
   "outputs": [
    {
     "data": {
      "text/plain": [
       "(0.9999999999999998+0j)"
      ]
     },
     "execution_count": 86,
     "metadata": {},
     "output_type": "execute_result"
    }
   ],
   "source": [
    "psi.dag() * psi"
   ]
  },
  {
   "cell_type": "code",
   "execution_count": 88,
   "metadata": {},
   "outputs": [
    {
     "data": {
      "text/plain": [
       "(1+0j)"
      ]
     },
     "execution_count": 88,
     "metadata": {},
     "output_type": "execute_result"
    }
   ],
   "source": [
    "psi_1.dag() * psi_1"
   ]
  },
  {
   "cell_type": "code",
   "execution_count": 89,
   "metadata": {},
   "outputs": [
    {
     "data": {
      "text/plain": [
       "np.float64(1.1774100225154747)"
      ]
     },
     "execution_count": 89,
     "metadata": {},
     "output_type": "execute_result"
    }
   ],
   "source": [
    "np.sqrt(2*np.log(2))"
   ]
  },
  {
   "cell_type": "code",
   "execution_count": 90,
   "metadata": {},
   "outputs": [],
   "source": [
    "N = 10 #truncation of Fock space\n",
    "alpha = np.sqrt(2*np.log(2)) #take alpha < 1\n",
    "\n",
    "psi_0 = qt.coherent(N, 0) #vacuum state\n",
    "psi_1 = qt.coherent(N, alpha)\n",
    "\n",
    "delta = abs((psi_0.dag() * psi_1)) #overlap"
   ]
  },
  {
   "cell_type": "code",
   "execution_count": 91,
   "metadata": {},
   "outputs": [
    {
     "data": {
      "text/plain": [
       "0.4999999999719739"
      ]
     },
     "execution_count": 91,
     "metadata": {},
     "output_type": "execute_result"
    }
   ],
   "source": [
    "delta\n"
   ]
  },
  {
   "cell_type": "code",
   "execution_count": null,
   "metadata": {},
   "outputs": [],
   "source": []
  }
 ],
 "metadata": {
  "kernelspec": {
   "display_name": "mosek",
   "language": "python",
   "name": "python3"
  },
  "language_info": {
   "codemirror_mode": {
    "name": "ipython",
    "version": 3
   },
   "file_extension": ".py",
   "mimetype": "text/x-python",
   "name": "python",
   "nbconvert_exporter": "python",
   "pygments_lexer": "ipython3",
   "version": "3.12.9"
  }
 },
 "nbformat": 4,
 "nbformat_minor": 2
}
