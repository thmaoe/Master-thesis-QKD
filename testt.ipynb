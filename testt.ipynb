{
 "cells": [
  {
   "cell_type": "code",
   "execution_count": 135,
   "metadata": {},
   "outputs": [],
   "source": [
    "import numpy as np\n",
    "import cvxpy as cp"
   ]
  },
  {
   "cell_type": "markdown",
   "metadata": {},
   "source": [
    "## Example from cvxpy "
   ]
  },
  {
   "cell_type": "code",
   "execution_count": 136,
   "metadata": {},
   "outputs": [],
   "source": [
    "n = 3\n",
    "p = 3\n",
    "\n",
    "np.random.seed(1)\n",
    "\n",
    "C = np.random.randn(n,n)\n",
    "A = []\n",
    "b = []\n",
    "\n",
    "for i in range(p):\n",
    "    A.append(np.random.randn(n,n))\n",
    "    b.append(np.random.randn())"
   ]
  },
  {
   "cell_type": "code",
   "execution_count": 137,
   "metadata": {},
   "outputs": [],
   "source": [
    "X = cp.Variable((n,n), symmetric = True)\n",
    "\n",
    "constraints = [X >> 0]\n",
    "constraints += [\n",
    "    cp.trace(A[i] @ X) == b[i] for i in range(p)\n",
    "]"
   ]
  },
  {
   "cell_type": "code",
   "execution_count": 138,
   "metadata": {},
   "outputs": [
    {
     "data": {
      "text/plain": [
       "2.654348022626433"
      ]
     },
     "execution_count": 138,
     "metadata": {},
     "output_type": "execute_result"
    }
   ],
   "source": [
    "prob = cp.Problem(cp.Minimize(cp.trace(C @ X)), constraints)\n",
    "prob.solve()"
   ]
  },
  {
   "cell_type": "code",
   "execution_count": null,
   "metadata": {},
   "outputs": [
    {
     "data": {
      "text/plain": [
       "array([[ 1.60805504, -0.59770125, -0.69575821],\n",
       "       [-0.59770125,  0.22228555,  0.24689067],\n",
       "       [-0.69575821,  0.24689067,  1.39679134]])"
      ]
     },
     "execution_count": 25,
     "metadata": {},
     "output_type": "execute_result"
    }
   ],
   "source": [
    "X.value"
   ]
  },
  {
   "cell_type": "markdown",
   "metadata": {},
   "source": [
    "## Example with quantum state"
   ]
  },
  {
   "cell_type": "code",
   "execution_count": null,
   "metadata": {},
   "outputs": [
    {
     "data": {
      "text/plain": [
       "0.6402685566554495"
      ]
     },
     "execution_count": 40,
     "metadata": {},
     "output_type": "execute_result"
    }
   ],
   "source": [
    "rho = np.array([[0.5, 0.2, 0.1], [0.2, 0.3, 0.], [0.1, 0., 0.2]])\n",
    "\n",
    "X = cp.Variable((3,3), hermitian = True) #setting hermitian makes cvxpy think entries are complex\n",
    "\n",
    "constraints = [X>>0, cp.trace(X) == 1]\n",
    "\n",
    "objective = cp.real(cp.trace(rho @ X)) #so we need to take real part here so no complex in objective fct\n",
    "\n",
    "prob = cp.Problem(cp.Maximize(objective), constraints)\n",
    "prob.solve()"
   ]
  },
  {
   "cell_type": "code",
   "execution_count": null,
   "metadata": {},
   "outputs": [
    {
     "data": {
      "text/plain": [
       "array([[0.71578654+0.j, 0.42071985+0.j, 0.16257992+0.j],\n",
       "       [0.42071985+0.j, 0.24728669+0.j, 0.09556   +0.j],\n",
       "       [0.16257992+0.j, 0.09556   +0.j, 0.03692677+0.j]])"
      ]
     },
     "execution_count": 41,
     "metadata": {},
     "output_type": "execute_result"
    }
   ],
   "source": [
    "X.value"
   ]
  },
  {
   "cell_type": "code",
   "execution_count": null,
   "metadata": {},
   "outputs": [
    {
     "data": {
      "text/plain": [
       "np.float64(0.6581148607722879)"
      ]
     },
     "execution_count": 43,
     "metadata": {},
     "output_type": "execute_result"
    }
   ],
   "source": [
    "rho_0 = np.array([[0.7, 0.2], [0.2, 0.3]])  # Example state 1\n",
    "rho_1 = np.array([[0.4, 0.1], [0.1, 0.6]])  # Example state 2\n",
    "\n",
    "E0 = cp.Variable((2,2), hermitian=True)\n",
    "E1 = cp.Variable((2,2), hermitian = True)\n",
    "\n",
    "constraints = [E0 >> 0, E1 >> 0, E0 + E1 == np.eye(2)]\n",
    "\n",
    "objective = cp.real(0.5 * cp.trace(rho_0 @ E0) + 0.5 * cp.trace(rho_1 @ E1))\n",
    "\n",
    "prob = cp.Problem(cp.Maximize(objective), constraints)\n",
    "prob.solve()\n",
    "\n"
   ]
  },
  {
   "cell_type": "code",
   "execution_count": null,
   "metadata": {},
   "outputs": [
    {
     "data": {
      "text/plain": [
       "array([[0.97434458+0.j, 0.15811486+0.j],\n",
       "       [0.15811486+0.j, 0.02565544+0.j]])"
      ]
     },
     "execution_count": 44,
     "metadata": {},
     "output_type": "execute_result"
    }
   ],
   "source": [
    "E0.value"
   ]
  },
  {
   "cell_type": "code",
   "execution_count": null,
   "metadata": {},
   "outputs": [
    {
     "data": {
      "text/plain": [
       "2.0000000195088443"
      ]
     },
     "execution_count": 47,
     "metadata": {},
     "output_type": "execute_result"
    }
   ],
   "source": [
    "d = 2\n",
    "\n",
    "phip = np.array([[1, 0, 0, 1], \n",
    "                     [0, 0, 0, 0], \n",
    "                     [0, 0, 0, 0], \n",
    "                     [1, 0, 0, 1]]) / d\n",
    "\n",
    "\n",
    "J = cp.Variable((d**2, d**2), hermitian = True)\n",
    "\n",
    "constraints = [J >> 0, cp.partial_trace(J, (d,d), 1) == np.eye(d)]\n",
    "\n",
    "objective = cp.real(cp.trace(phip @ J))\n",
    "\n",
    "prob = cp.Problem(cp.Maximize(objective), constraints)\n",
    "prob.solve()"
   ]
  },
  {
   "cell_type": "code",
   "execution_count": null,
   "metadata": {},
   "outputs": [
    {
     "data": {
      "text/plain": [
       "array([[ 1.00000001e+00+0.j, -1.42895070e-16+0.j,  3.39844948e-17+0.j,\n",
       "         1.00000001e+00+0.j],\n",
       "       [-1.42895070e-16+0.j, -6.49215334e-09+0.j, -4.50064862e-34+0.j,\n",
       "        -3.41646567e-17+0.j],\n",
       "       [ 3.39844948e-17+0.j, -4.50064862e-34+0.j, -6.49215029e-09+0.j,\n",
       "        -7.47418209e-17+0.j],\n",
       "       [ 1.00000001e+00+0.j, -3.41646567e-17+0.j, -7.47418209e-17+0.j,\n",
       "         1.00000001e+00+0.j]])"
      ]
     },
     "execution_count": 48,
     "metadata": {},
     "output_type": "execute_result"
    }
   ],
   "source": [
    "J.value"
   ]
  },
  {
   "cell_type": "code",
   "execution_count": null,
   "metadata": {},
   "outputs": [
    {
     "data": {
      "text/plain": [
       "np.float64(1.125000232787867)"
      ]
     },
     "execution_count": 55,
     "metadata": {},
     "output_type": "execute_result"
    }
   ],
   "source": [
    "y0 = cp.Variable()\n",
    "y1 = cp.Variable()\n",
    "y2 = cp.Variable()\n",
    "y3 = cp.Variable()\n",
    "y4 = cp.Variable()\n",
    "\n",
    "M2 = cp.bmat([[y0,y1,y2],\n",
    "              [y1,y2,y3],\n",
    "              [y2,y3,y4]])\n",
    "M1 = cp.bmat([[y0,y1],[y1,y2]])\n",
    "\n",
    "constraints = [M2 >> 0, M1 >> 0, y0 == 1]\n",
    "constraints += [y1 >= -1, y1 <= 1]\n",
    "constraints += [y3 >= -1, y3 <= 1]\n",
    "constraints += [y4 >= 0, y4 <= 1]\n",
    "\n",
    "\n",
    "\n",
    "objective = y4 - 2*y2 + y1\n",
    "\n",
    "prob = cp.Problem(cp.Maximize(objective), constraints)\n",
    "prob.solve()"
   ]
  },
  {
   "cell_type": "code",
   "execution_count": null,
   "metadata": {},
   "outputs": [
    {
     "data": {
      "text/plain": [
       "(2, 1)"
      ]
     },
     "execution_count": 3,
     "metadata": {},
     "output_type": "execute_result"
    }
   ],
   "source": [
    "np.array([[2],[2]]).shape"
   ]
  },
  {
   "cell_type": "code",
   "execution_count": 1,
   "metadata": {},
   "outputs": [],
   "source": [
    "import simulation\n",
    "import chaospy\n",
    "import numpy as np\n",
    "import cvxpy as cp"
   ]
  },
  {
   "cell_type": "code",
   "execution_count": 2,
   "metadata": {},
   "outputs": [],
   "source": [
    "delta, p = simulation.getProbas(0.7, 1, 0, '1')"
   ]
  },
  {
   "cell_type": "code",
   "execution_count": 3,
   "metadata": {},
   "outputs": [],
   "source": [
    "m_in = 10\n",
    "m = int(m_in*2)\n",
    "distribution = chaospy.Uniform(lower=0, upper=1)\n",
    "t, w = chaospy.quadrature.radau(m_in,distribution,1.0)\n",
    "t = t[0]"
   ]
  },
  {
   "cell_type": "code",
   "execution_count": 204,
   "metadata": {},
   "outputs": [],
   "source": [
    "Gamma00 = cp.Variable((28,28), complex = False)\n",
    "Gamma01 = cp.Variable((28,28), complex = False)\n",
    "Gamma10 = cp.Variable((28,28), complex = False)\n",
    "Gamma11 = cp.Variable((28,28), complex = False)\n",
    "\n",
    "Gamma = cp.kron(Gamma00, np.array([[1,0],[0,0]])) + cp.kron(Gamma01, np.array([[0,1],[0,0]])) + cp.kron(Gamma10, np.array([[0,0],[1,0]])) + cp.kron(Gamma11, np.array([[0,0],[0,1]]))\n",
    "\n",
    "constraints = [Gamma >> 0]"
   ]
  },
  {
   "cell_type": "code",
   "execution_count": 205,
   "metadata": {},
   "outputs": [],
   "source": [
    "def getA(px, ti, taui):\n",
    "    A = np.zeros((28,28))\n",
    "    \n",
    "    indices = [(1,4), (1,5), (2,6), (2,7), (3,8), (3,9), (1,16), (2,18), (3,20), (0,17), (0,19), (0,21)]\n",
    "\n",
    "    for id in indices:\n",
    "        if id in [(1,4), (1,5), (2,6), (2,7), (3,8), (3,9)]:\n",
    "            A[id[0], id[1]] = (1-px) * taui\n",
    "            # A[id[1], id[0]] = (1-px) * taui\n",
    "        elif id in [(1,16), (2,18), (3,20)]:\n",
    "            A[id[0], id[1]] = (1-px) * taui * (1-ti)\n",
    "            # A[id[1], id[0]] = (1-px) * taui * (1-ti)\n",
    "        else:\n",
    "            A[id[0], id[1]] = (1-px) * taui * (ti)\n",
    "\n",
    "    indices = [(1,10), (1,11), (2,12), (2,13), (3,14), (3,15), (1,22), (2,24), (3,26), (0,23), (0,25), (0,27)]\n",
    "\n",
    "    B = np.zeros((28,28))\n",
    "    for id in indices: \n",
    "        if id in [(1,10), (1,11), (2,12), (2,13), (3,14), (3,15)]:\n",
    "            B[id[0], id[1]] = (px) * taui\n",
    "            # A[id[1] + 28, id[0] + 28] = (px) * taui\n",
    "        elif id in [(1,22), (2,24), (3,26)]:\n",
    "            B[id[0], id[1]] = (px) * taui * (1-ti)\n",
    "            # A[id[1] + 28, id[0] + 28] = (px) * taui * (1-ti)\n",
    "        else:\n",
    "            B[id[0], id[1]] = (px) * taui * (ti)\n",
    "    \n",
    "    return np.kron(A, np.array([[1,0],[0,0]])).T + np.kron(B, np.array([[0,0], [0,1]])).T"
   ]
  },
  {
   "cell_type": "code",
   "execution_count": 206,
   "metadata": {},
   "outputs": [],
   "source": [
    "def getCs(Gamma00, Gamma11, p, constraints):\n",
    "    Cs = {b:{x :[np.zeros((28,28)) for _ in range(3)] for x in range(2)} for b in range(3)}\n",
    "    ids = {0: [(0,1), (1,0), (1,1)], 1: [(0,2), (2,0), (2,2)], 2: [(0,3), (3,0), (3,3)]}\n",
    "    \n",
    "    for b in range(3):\n",
    "        for x in range(2):\n",
    "            Cs[b][x][0][ids[b][0]] = 1\n",
    "            Cs[b][x][1][ids[b][1]] = 1\n",
    "            Cs[b][x][2][ids[b][2]] = 1\n",
    "            if x == 0:\n",
    "                for i in range(3):\n",
    "                    # C = np.kron(Cs[b][x][i], np.array([[1,0], [0,0]])).T\n",
    "                    constraints += [(cp.trace(Gamma00 @ Cs[b][x][i].T)) == p[b][x]]\n",
    "            elif x == 1:\n",
    "                for i in range(3):\n",
    "                    # C = np.kron(Cs[b][x][i], np.array([[0,0], [0,1]])).T\n",
    "                    constraints += [(cp.trace(Gamma11 @ Cs[b][x][i].T)) == p[b][x]]"
   ]
  },
  {
   "cell_type": "code",
   "execution_count": 207,
   "metadata": {},
   "outputs": [],
   "source": [
    "getCs(Gamma00, Gamma11, p, constraints)"
   ]
  },
  {
   "cell_type": "code",
   "execution_count": 208,
   "metadata": {},
   "outputs": [],
   "source": [
    "Ds = [np.zeros((28,28)) for _ in range(4)]\n",
    "\n",
    "Ds[0][0,0] = 1\n",
    "Ds[1][0,0] = 1\n",
    "Ds[2][0,0] = 1\n",
    "Ds[3][0,0] = 1\n",
    "\n",
    "constraints += [(cp.trace(Gamma00 @ Ds[0].T)) == 1]\n",
    "constraints += [(cp.trace(Gamma01 @ Ds[1].T)) == delta]\n",
    "constraints += [(cp.trace(Gamma10 @ Ds[2].T)) == delta]\n",
    "constraints += [(cp.trace(Gamma11 @ Ds[3].T)) == 1]"
   ]
  },
  {
   "cell_type": "code",
   "execution_count": 209,
   "metadata": {},
   "outputs": [],
   "source": [
    "import itertools\n",
    "def getCombs(indices):\n",
    "# All 27 possible combinations of one from each group\n",
    "    raw_combinations = itertools.product(indices[0], indices[1], indices[2])\n",
    "\n",
    "    # Use sets to remove permutations that are just re-ordered versions of each other\n",
    "    unique_sets = set()\n",
    "\n",
    "    for combo in raw_combinations:\n",
    "        # Sort to make permutations identical\n",
    "        sorted_combo = tuple(sorted(combo))\n",
    "        unique_sets.add(sorted_combo)\n",
    "\n",
    "    # Convert to list if needed\n",
    "    unique_combinations = list(unique_sets)\n",
    "\n",
    "    return unique_combinations"
   ]
  },
  {
   "cell_type": "code",
   "execution_count": 210,
   "metadata": {},
   "outputs": [],
   "source": [
    "Ms = [[np.zeros((28,28)) for _ in range(27)] for _ in range(4)]\n",
    "\n",
    "indices = [[(0,1), (1,0), (1,1)], [(0,2), (2,0), (2,2)], [(0,3), (3,0), (3,3)]]\n",
    "combis = getCombs(indices)\n",
    "\n",
    "for i in range(4):\n",
    "    for j, comb in enumerate(combis):\n",
    "        Ms[i][j][comb[0]] = 1\n",
    "        Ms[i][j][comb[1]] = 1\n",
    "        Ms[i][j][comb[2]] = 1\n",
    "\n",
    "basis = [np.array([[1,0], [0,0]]), np.array([[0,1], [0,0]]), np.array([[0,0], [1,0]]), np.array([[0,0], [0,1]])]\n",
    "G = [1, delta, delta, 1]\n",
    "\n",
    "constraints += [cp.trace(Gamma00 @ Ms[0][j].T) == 1 for j in range(27)]\n",
    "constraints += [cp.trace(Gamma01 @ Ms[1][j].T) == delta for j in range(27)]\n",
    "constraints += [cp.trace(Gamma10 @ Ms[2][j].T) == delta for j in range(27)]\n",
    "constraints += [cp.trace(Gamma11 @ Ms[3][j].T) == 1 for j in range(27)]\n"
   ]
  },
  {
   "cell_type": "code",
   "execution_count": null,
   "metadata": {},
   "outputs": [
    {
     "name": "stdout",
     "output_type": "stream",
     "text": [
      "Zero products (index pairs):\n",
      "[(1, 2), (1, 3), (2, 1), (2, 3), (3, 1), (3, 2)]\n",
      "\n",
      "Equal products (distinct pairs of index pairs):\n",
      "[((0, 1), (1, 0)), ((0, 1), (1, 1)), ((0, 2), (2, 0)), ((0, 2), (2, 2)), ((0, 3), (3, 0)), ((0, 3), (3, 3)), ((0, 4), (5, 0)), ((0, 5), (4, 0)), ((0, 6), (7, 0)), ((0, 7), (6, 0)), ((0, 8), (9, 0)), ((0, 9), (8, 0)), ((0, 10), (11, 0)), ((0, 11), (10, 0)), ((0, 12), (13, 0)), ((0, 13), (12, 0)), ((0, 14), (15, 0)), ((0, 15), (14, 0)), ((0, 16), (4, 4)), ((0, 16), (16, 0)), ((0, 17), (5, 5)), ((0, 17), (17, 0)), ((0, 18), (6, 6)), ((0, 18), (18, 0)), ((0, 19), (7, 7)), ((0, 19), (19, 0)), ((0, 20), (8, 8)), ((0, 20), (20, 0)), ((0, 21), (9, 9)), ((0, 21), (21, 0)), ((0, 22), (10, 10)), ((0, 22), (22, 0)), ((0, 23), (11, 11)), ((0, 23), (23, 0)), ((0, 24), (12, 12)), ((0, 24), (24, 0)), ((0, 25), (13, 13)), ((0, 25), (25, 0)), ((0, 26), (14, 14)), ((0, 26), (26, 0)), ((0, 27), (15, 15)), ((0, 27), (27, 0)), ((1, 0), (1, 1)), ((1, 4), (5, 1)), ((1, 5), (4, 1)), ((1, 6), (7, 1)), ((1, 7), (6, 1)), ((1, 8), (9, 1)), ((1, 9), (8, 1)), ((1, 10), (11, 1)), ((1, 11), (10, 1)), ((1, 12), (13, 1)), ((1, 13), (12, 1)), ((1, 14), (15, 1)), ((1, 15), (14, 1)), ((1, 16), (16, 1)), ((1, 17), (17, 1)), ((1, 18), (18, 1)), ((1, 19), (19, 1)), ((1, 20), (20, 1)), ((1, 21), (21, 1)), ((1, 22), (22, 1)), ((1, 23), (23, 1)), ((1, 24), (24, 1)), ((1, 25), (25, 1)), ((1, 26), (26, 1)), ((1, 27), (27, 1)), ((2, 0), (2, 2)), ((2, 4), (5, 2)), ((2, 5), (4, 2)), ((2, 6), (7, 2)), ((2, 7), (6, 2)), ((2, 8), (9, 2)), ((2, 9), (8, 2)), ((2, 10), (11, 2)), ((2, 11), (10, 2)), ((2, 12), (13, 2)), ((2, 13), (12, 2)), ((2, 14), (15, 2)), ((2, 15), (14, 2)), ((2, 16), (16, 2)), ((2, 17), (17, 2)), ((2, 18), (18, 2)), ((2, 19), (19, 2)), ((2, 20), (20, 2)), ((2, 21), (21, 2)), ((2, 22), (22, 2)), ((2, 23), (23, 2)), ((2, 24), (24, 2)), ((2, 25), (25, 2)), ((2, 26), (26, 2)), ((2, 27), (27, 2)), ((3, 0), (3, 3)), ((3, 4), (5, 3)), ((3, 5), (4, 3)), ((3, 6), (7, 3)), ((3, 7), (6, 3)), ((3, 8), (9, 3)), ((3, 9), (8, 3)), ((3, 10), (11, 3)), ((3, 11), (10, 3)), ((3, 12), (13, 3)), ((3, 13), (12, 3)), ((3, 14), (15, 3)), ((3, 15), (14, 3)), ((3, 16), (16, 3)), ((3, 17), (17, 3)), ((3, 18), (18, 3)), ((3, 19), (19, 3)), ((3, 20), (20, 3)), ((3, 21), (21, 3)), ((3, 22), (22, 3)), ((3, 23), (23, 3)), ((3, 24), (24, 3)), ((3, 25), (25, 3)), ((3, 26), (26, 3)), ((3, 27), (27, 3)), ((4, 4), (16, 0)), ((4, 17), (16, 5)), ((5, 5), (17, 0)), ((5, 16), (17, 4)), ((6, 6), (18, 0)), ((6, 19), (18, 7)), ((7, 7), (19, 0)), ((7, 18), (19, 6)), ((8, 8), (20, 0)), ((8, 21), (20, 9)), ((9, 9), (21, 0)), ((9, 20), (21, 8)), ((10, 10), (22, 0)), ((10, 23), (22, 11)), ((11, 11), (23, 0)), ((11, 22), (23, 10)), ((12, 12), (24, 0)), ((12, 25), (24, 13)), ((13, 13), (25, 0)), ((13, 24), (25, 12)), ((14, 14), (26, 0)), ((14, 27), (26, 15)), ((15, 15), (27, 0)), ((15, 26), (27, 14))]\n"
     ]
    }
   ],
   "source": [
    "import re\n",
    "\n",
    "# Your operator lists\n",
    "S = [\n",
    "    \"id\", \"M0\", \"M1\", \"M2\", \n",
    "    \"Z00\", \"Z00dag\", \"Z10\", \"Z10dag\", \"Z20\", \"Z20dag\", \n",
    "    \"Z01\", \"Z01dag\", \"Z11\", \"Z11dag\", \"Z21\", \"Z21dag\", \n",
    "    \"Z00dagZ00\", \"Z00Z00dag\", \"Z10dagZ10\", \"Z10Z10dag\", \n",
    "    \"Z20dagZ20\", \"Z20Z20dag\", \"Z01dagZ01\", \"Z01Z01dag\", \n",
    "    \"Z11dagZ11\", \"Z11Z11dag\", \"Z21dagZ21\", \"Z21Z21dag\"\n",
    "]\n",
    "\n",
    "S_ = [\n",
    "    \"id\", \"M0\", \"M1\", \"M2\", \n",
    "    \"Z00dag\", \"Z00\", \"Z10dag\", \"Z10\", \"Z20dag\", \"Z20\", \n",
    "    \"Z01dag\", \"Z01\", \"Z11dag\", \"Z11\", \"Z21dag\", \"Z21\", \n",
    "    \"Z00dagZ00\", \"Z00Z00dag\", \"Z10dagZ10\", \"Z10Z10dag\", \n",
    "    \"Z20dagZ20\", \"Z20Z20dag\", \"Z01dagZ01\", \"Z01Z01dag\", \n",
    "    \"Z11dagZ11\", \"Z11Z11dag\", \"Z21dagZ21\", \"Z21Z21dag\"\n",
    "]\n",
    "\n",
    "pattern = re.compile(r\"M\\d|Z\\d\\d(?:dag)?|id\")\n",
    "\n",
    "def split_factors(op):\n",
    "    return pattern.findall(op)\n",
    "\n",
    "def move_Ms_to_right(factors):\n",
    "    factors = factors[:]\n",
    "    changed = True\n",
    "    while changed:\n",
    "        changed = False\n",
    "        for i in range(len(factors)-1):\n",
    "            if factors[i].startswith('M') and (factors[i+1].startswith('Z')):\n",
    "                factors[i], factors[i+1] = factors[i+1], factors[i]\n",
    "                changed = True\n",
    "    return factors\n",
    "\n",
    "def simplify_Ms(M_factors):\n",
    "    if not M_factors:\n",
    "        return 'id'\n",
    "    unique = set(M_factors)\n",
    "    if len(unique) == 1:\n",
    "        return M_factors[0]\n",
    "    return None  # zero\n",
    "\n",
    "def canonical_product(op1, op2):\n",
    "    factors1 = split_factors(op1)\n",
    "    factors2 = split_factors(op2)\n",
    "    all_factors = factors1 + factors2\n",
    "    \n",
    "    # Remove all 'id' factors (neutral element)\n",
    "    all_factors = [f for f in all_factors if f != 'id']\n",
    "    \n",
    "    # Move all Ms to the right\n",
    "    all_factors = move_Ms_to_right(all_factors)\n",
    "    \n",
    "    # Separate Ms and Z factors\n",
    "    M_factors = [f for f in all_factors if f.startswith('M')]\n",
    "    Z_factors = [f for f in all_factors if not f.startswith('M')]\n",
    "    \n",
    "    # Simplify Ms\n",
    "    M_simpl = simplify_Ms(M_factors)\n",
    "    if M_simpl is None:\n",
    "        return None\n",
    "    \n",
    "    return (tuple(Z_factors), M_simpl)\n",
    "\n",
    "product_map = {}\n",
    "zero_list = []\n",
    "for i, op1 in enumerate(S_):\n",
    "    for j, op2 in enumerate(S):\n",
    "        cform = canonical_product(op1, op2)\n",
    "        if cform is None:\n",
    "            zero_list.append((i,j))\n",
    "        else:\n",
    "            product_map[(i,j)] = cform\n",
    "\n",
    "equal_list = []\n",
    "checked_pairs = set()\n",
    "keys = list(product_map.keys())\n",
    "\n",
    "for idx1 in range(len(keys)):\n",
    "    for idx2 in range(idx1+1, len(keys)):\n",
    "        key1 = keys[idx1]\n",
    "        key2 = keys[idx2]\n",
    "        if product_map[key1] == product_map[key2]:\n",
    "            if (key1, key2) not in checked_pairs and (key2, key1) not in checked_pairs:\n",
    "                equal_list.append((key1, key2))\n",
    "                checked_pairs.add((key1, key2))\n",
    "\n",
    "print(\"Zero products (index pairs):\")\n",
    "print(sorted(zero_list))\n",
    "\n",
    "print(\"\\nEqual products (distinct pairs of index pairs):\")\n",
    "print(sorted(equal_list))"
   ]
  },
  {
   "cell_type": "code",
   "execution_count": 212,
   "metadata": {},
   "outputs": [],
   "source": [
    "basis = [np.array([[1,0], [0,0]]), np.array([[0,1], [0,0]]), np.array([[0,0], [1,0]]), np.array([[0,0], [0,1]])]\n",
    "Gammas = [Gamma00, Gamma01, Gamma10, Gamma11]\n",
    "\n",
    "for id in zero_list:\n",
    "    for i in range(4):\n",
    "        F = np.zeros((28,28))\n",
    "        F[id] = 1\n",
    "        constraints += [(cp.trace(Gammas[i] @ F.T)) == 0]\n",
    "\n",
    "equality_constraints = []\n",
    "\n",
    "for id in equal_list:\n",
    "    if id[0] not in [(0,1), (1,0), (1,1), (0,2), (2,0), (2,2), (0,3), (3,0), (3,3)] and id[1] not in [(0,1), (1,0), (1,1), (0,2), (2,0), (2,2), (0,3), (3,0), (3,3)]:\n",
    "        for i in range(4):\n",
    "            F = np.zeros((28,28))\n",
    "            F[id[0]] = 1\n",
    "            F[id[1]] = -1 \n",
    "            constraints += [(cp.trace(Gammas[i] @ F.T)) == 0]"
   ]
  },
  {
   "cell_type": "code",
   "execution_count": 213,
   "metadata": {},
   "outputs": [],
   "source": [
    "t0 = t[0]\n",
    "tau0 = (w[0]/(t[0]*np.log(2)))\n",
    "A = getA(7/8, t0, tau0)\n",
    "\n",
    "obj = (cp.trace(Gamma @ A))"
   ]
  },
  {
   "cell_type": "code",
   "execution_count": 214,
   "metadata": {},
   "outputs": [
    {
     "name": "stdout",
     "output_type": "stream",
     "text": [
      "-5.597683374851717 5.597683374851717\n"
     ]
    }
   ],
   "source": [
    "eigvals = np.linalg.eigvalsh(A)\n",
    "print(min(eigvals), max(eigvals))"
   ]
  },
  {
   "cell_type": "code",
   "execution_count": 215,
   "metadata": {},
   "outputs": [],
   "source": [
    "constraints += equality_constraints"
   ]
  },
  {
   "cell_type": "code",
   "execution_count": 216,
   "metadata": {},
   "outputs": [
    {
     "name": "stdout",
     "output_type": "stream",
     "text": [
      "===============================================================================\n",
      "                                     CVXPY                                     \n",
      "                                     v1.6.4                                    \n",
      "===============================================================================\n",
      "(CVXPY) May 28 05:54:56 PM: Your problem has 3136 variables, 3819 constraints, and 0 parameters.\n"
     ]
    },
    {
     "name": "stdout",
     "output_type": "stream",
     "text": [
      "(CVXPY) May 28 05:54:56 PM: It is compliant with the following grammars: DCP, DQCP\n",
      "(CVXPY) May 28 05:54:56 PM: (If you need to solve this problem multiple times, but with different data, consider using parameters.)\n",
      "(CVXPY) May 28 05:54:56 PM: CVXPY will first compile your problem; then, it will invoke a numerical solver to obtain a solution.\n",
      "(CVXPY) May 28 05:54:56 PM: Your problem is compiled with the CPP canonicalization backend.\n",
      "-------------------------------------------------------------------------------\n",
      "                                  Compilation                                  \n",
      "-------------------------------------------------------------------------------\n",
      "(CVXPY) May 28 05:54:56 PM: Compiling problem (target solver=MOSEK).\n",
      "(CVXPY) May 28 05:54:56 PM: Reduction chain: Dcp2Cone -> CvxAttr2Constr -> ConeMatrixStuffing -> MOSEK\n",
      "(CVXPY) May 28 05:54:56 PM: Applying reduction Dcp2Cone\n",
      "(CVXPY) May 28 05:54:56 PM: Applying reduction CvxAttr2Constr\n",
      "(CVXPY) May 28 05:54:56 PM: Applying reduction ConeMatrixStuffing\n",
      "(CVXPY) May 28 05:54:56 PM: Applying reduction MOSEK\n",
      "(CVXPY) May 28 05:54:57 PM: Finished problem compilation (took 8.239e-01 seconds).\n",
      "-------------------------------------------------------------------------------\n",
      "                                Numerical solver                               \n",
      "-------------------------------------------------------------------------------\n",
      "(CVXPY) May 28 05:54:57 PM: Invoking solver MOSEK  to obtain a solution.\n",
      "\n",
      "\n",
      "(CVXPY) May 28 05:54:57 PM: Problem\n",
      "(CVXPY) May 28 05:54:57 PM:   Name                   :                 \n",
      "(CVXPY) May 28 05:54:57 PM:   Objective sense        : maximize        \n",
      "(CVXPY) May 28 05:54:57 PM:   Type                   : CONIC (conic optimization problem)\n",
      "(CVXPY) May 28 05:54:57 PM:   Constraints            : 3136            \n",
      "(CVXPY) May 28 05:54:57 PM:   Affine conic cons.     : 0               \n",
      "(CVXPY) May 28 05:54:57 PM:   Disjunctive cons.      : 0               \n",
      "(CVXPY) May 28 05:54:57 PM:   Cones                  : 0               \n",
      "(CVXPY) May 28 05:54:57 PM:   Scalar variables       : 683             \n",
      "(CVXPY) May 28 05:54:57 PM:   Matrix variables       : 1 (scalarized: 1596)\n",
      "(CVXPY) May 28 05:54:57 PM:   Integer variables      : 0               \n",
      "(CVXPY) May 28 05:54:57 PM: \n",
      "(CVXPY) May 28 05:54:57 PM: Optimizer started.\n",
      "(CVXPY) May 28 05:54:57 PM: Presolve started.\n",
      "(CVXPY) May 28 05:54:57 PM: Linear dependency checker started.\n",
      "(CVXPY) May 28 05:54:57 PM: Linear dependency checker terminated.\n",
      "(CVXPY) May 28 05:54:57 PM: Eliminator started.\n",
      "(CVXPY) May 28 05:54:57 PM: Freed constraints in eliminator : 0\n",
      "(CVXPY) May 28 05:54:57 PM: Eliminator terminated.\n",
      "(CVXPY) May 28 05:54:57 PM: Eliminator started.\n",
      "(CVXPY) May 28 05:54:57 PM: Freed constraints in eliminator : 0\n",
      "(CVXPY) May 28 05:54:57 PM: Eliminator terminated.\n",
      "(CVXPY) May 28 05:54:57 PM: Eliminator - tries                  : 2                 time                   : 0.00            \n",
      "(CVXPY) May 28 05:54:57 PM: Lin. dep.  - tries                  : 1                 time                   : 0.00            \n",
      "(CVXPY) May 28 05:54:57 PM: Lin. dep.  - primal attempts        : 1                 successes              : 1               \n",
      "(CVXPY) May 28 05:54:57 PM: Lin. dep.  - dual attempts          : 0                 successes              : 0               \n",
      "(CVXPY) May 28 05:54:57 PM: Lin. dep.  - primal deps.           : 0                 dual deps.             : 0               \n",
      "(CVXPY) May 28 05:54:57 PM: Presolve terminated. Time: 0.05    \n",
      "(CVXPY) May 28 05:54:57 PM: GP based matrix reordering started.\n",
      "(CVXPY) May 28 05:54:57 PM: GP based matrix reordering terminated.\n",
      "(CVXPY) May 28 05:54:57 PM: Optimizer  - threads                : 8               \n",
      "(CVXPY) May 28 05:54:57 PM: Optimizer  - solved problem         : the primal      \n",
      "(CVXPY) May 28 05:54:57 PM: Optimizer  - Constraints            : 3136            \n",
      "(CVXPY) May 28 05:54:57 PM: Optimizer  - Cones                  : 1               \n",
      "(CVXPY) May 28 05:54:57 PM: Optimizer  - Scalar variables       : 684               conic                  : 683             \n",
      "(CVXPY) May 28 05:54:57 PM: Optimizer  - Semi-definite variables: 1                 scalarized             : 1596            \n",
      "(CVXPY) May 28 05:54:57 PM: Factor     - setup time             : 0.25            \n",
      "(CVXPY) May 28 05:54:57 PM: Factor     - dense det. time        : 0.14              GP order time          : 0.00            \n",
      "(CVXPY) May 28 05:54:57 PM: Factor     - nonzeros before factor : 4.92e+06          after factor           : 4.92e+06        \n",
      "(CVXPY) May 28 05:54:57 PM: Factor     - dense dim.             : 0                 flops                  : 1.03e+10        \n",
      "(CVXPY) May 28 05:54:57 PM: ITE PFEAS    DFEAS    GFEAS    PRSTATUS   POBJ              DOBJ              MU       TIME  \n",
      "(CVXPY) May 28 05:54:57 PM: 0   3.2e+00  4.0e+00  1.0e+00  0.00e+00   -0.000000000e+00  -0.000000000e+00  1.0e+00  0.32  \n",
      "(CVXPY) May 28 05:54:57 PM: 1   2.2e-01  2.7e-01  1.1e-01  -8.73e-01  -4.401347309e+00  -6.674553015e+00  6.7e-02  0.54  \n",
      "(CVXPY) May 28 05:54:57 PM: 2   1.2e-02  1.5e-02  2.7e-03  5.56e-01   -1.134433506e+00  -1.652490424e+00  3.6e-03  0.70  \n",
      "(CVXPY) May 28 05:54:57 PM: 3   7.5e-04  9.3e-04  1.0e-04  3.16e-01   -4.797686275e-01  -6.626672257e-01  2.3e-04  0.87  \n",
      "(CVXPY) May 28 05:54:58 PM: 4   1.0e-04  1.3e-04  9.6e-06  1.37e-01   -2.402128468e-01  -3.305337556e-01  3.2e-05  1.03  \n",
      "(CVXPY) May 28 05:54:58 PM: 5   1.9e-05  2.3e-05  1.1e-06  -1.31e-01  -1.466998619e-01  -1.842639878e-01  5.8e-06  1.18  \n",
      "(CVXPY) May 28 05:54:58 PM: 6   3.2e-06  4.0e-06  1.0e-07  8.28e-02   -8.642381979e-02  -9.733227020e-02  9.9e-07  1.33  \n",
      "(CVXPY) May 28 05:54:58 PM: 7   5.2e-07  6.5e-07  1.3e-08  1.16e-03   -4.822749684e-02  -5.441249668e-02  1.6e-07  1.48  \n",
      "(CVXPY) May 28 05:54:58 PM: 8   7.2e-08  8.9e-08  1.2e-09  9.82e-02   -2.623111121e-02  -2.888556328e-02  2.2e-08  1.63  \n",
      "(CVXPY) May 28 05:54:58 PM: 9   1.4e-08  1.3e-08  1.5e-10  -8.32e-02  -1.237659651e-02  -1.464323599e-02  3.2e-09  1.78  \n",
      "(CVXPY) May 28 05:54:59 PM: 10  7.2e-09  6.7e-09  7.5e-11  1.64e-01   -9.456574755e-03  -1.148063790e-02  1.7e-09  1.98  \n",
      "(CVXPY) May 28 05:54:59 PM: 11  3.9e-09  2.6e-09  1.6e-11  7.32e-01   -6.739785645e-03  -7.367916156e-03  6.5e-10  2.09  \n",
      "(CVXPY) May 28 05:54:59 PM: 12  9.7e-10  6.5e-10  3.2e-12  3.81e-01   -4.289919859e-03  -4.691755340e-03  1.6e-10  2.26  \n",
      "(CVXPY) May 28 05:54:59 PM: 13  2.1e-10  1.4e-10  5.2e-13  3.82e-01   -2.952068864e-03  -3.179066698e-03  3.5e-11  2.42  \n",
      "(CVXPY) May 28 05:54:59 PM: 14  3.9e-11  3.5e-11  1.0e-13  3.36e-01   -2.244723636e-03  -2.384042654e-03  8.8e-12  2.56  \n",
      "(CVXPY) May 28 05:54:59 PM: 15  1.1e-11  6.0e-12  7.3e-15  8.39e-01   -2.055180619e-03  -2.078844788e-03  1.5e-12  2.72  \n",
      "(CVXPY) May 28 05:54:59 PM: 16  1.4e-11  5.9e-12  7.2e-15  8.80e-01   -2.054757940e-03  -2.078287625e-03  1.5e-12  2.88  \n",
      "(CVXPY) May 28 05:55:00 PM: 17  1.5e-11  5.9e-12  7.2e-15  9.99e-01   -2.054597636e-03  -2.078054351e-03  1.5e-12  3.02  \n",
      "(CVXPY) May 28 05:55:00 PM: 18  1.5e-11  5.9e-12  7.1e-15  1.00e+00   -2.054436800e-03  -2.077820839e-03  1.5e-12  3.17  \n",
      "(CVXPY) May 28 05:55:00 PM: 19  1.6e-11  5.9e-12  7.1e-15  9.99e-01   -2.054356789e-03  -2.077704558e-03  1.5e-12  3.33  \n",
      "(CVXPY) May 28 05:55:00 PM: 20  1.7e-11  5.9e-12  7.1e-15  1.00e+00   -2.054276544e-03  -2.077588136e-03  1.5e-12  3.47  \n",
      "(CVXPY) May 28 05:55:00 PM: 21  1.7e-11  5.9e-12  7.1e-15  1.00e+00   -2.054236566e-03  -2.077530076e-03  1.5e-12  3.62  \n",
      "(CVXPY) May 28 05:55:00 PM: 22  1.7e-11  5.8e-12  7.0e-15  9.17e-01   -2.053526633e-03  -2.076541348e-03  1.5e-12  3.77  \n",
      "(CVXPY) May 28 05:55:01 PM: 23  1.7e-11  5.8e-12  7.0e-15  1.00e+00   -2.053486875e-03  -2.076483720e-03  1.5e-12  3.92  \n",
      "(CVXPY) May 28 05:55:01 PM: 24  1.7e-11  5.8e-12  7.0e-15  1.00e+00   -2.053407532e-03  -2.076368680e-03  1.5e-12  4.06  \n",
      "(CVXPY) May 28 05:55:01 PM: 25  1.7e-11  5.8e-12  7.0e-15  1.00e+00   -2.053328260e-03  -2.076253758e-03  1.4e-12  4.21  \n",
      "(CVXPY) May 28 05:55:01 PM: 26  1.7e-11  5.8e-12  7.0e-15  1.00e+00   -2.053248870e-03  -2.076138797e-03  1.4e-12  4.38  \n",
      "(CVXPY) May 28 05:55:01 PM: 27  1.7e-11  5.8e-12  6.9e-15  9.27e-01   -2.053247351e-03  -2.076136768e-03  1.4e-12  4.55  \n",
      "(CVXPY) May 28 05:55:01 PM: 28  1.7e-11  5.8e-12  6.9e-15  1.03e+00   -2.053236211e-03  -2.076121339e-03  1.4e-12  4.71  \n",
      "(CVXPY) May 28 05:55:01 PM: 29  1.7e-11  5.8e-12  6.9e-15  9.34e-01   -2.053134127e-03  -2.075986370e-03  1.4e-12  4.86  \n",
      "(CVXPY) May 28 05:55:02 PM: 30  1.7e-11  5.8e-12  6.9e-15  9.99e-01   -2.053133808e-03  -2.075985923e-03  1.4e-12  5.02  \n",
      "(CVXPY) May 28 05:55:02 PM: 31  1.7e-11  5.8e-12  6.8e-15  9.99e-01   -2.053133172e-03  -2.075985029e-03  1.4e-12  5.17  \n",
      "(CVXPY) May 28 05:55:02 PM: 32  1.7e-11  5.8e-12  6.9e-15  9.99e-01   -2.053133024e-03  -2.075984805e-03  1.4e-12  5.32  \n",
      "(CVXPY) May 28 05:55:02 PM: 33  1.7e-11  5.8e-12  6.9e-15  1.00e+00   -2.053123189e-03  -2.075970491e-03  1.4e-12  5.47  \n",
      "(CVXPY) May 28 05:55:02 PM: 34  1.7e-11  5.8e-12  6.9e-15  1.00e+00   -2.053118248e-03  -2.075963334e-03  1.4e-12  5.62  \n",
      "(CVXPY) May 28 05:55:02 PM: 35  1.7e-11  5.8e-12  6.9e-15  1.00e+00   -2.053113325e-03  -2.075956178e-03  1.4e-12  5.77  \n",
      "(CVXPY) May 28 05:55:03 PM: 36  1.7e-11  5.8e-12  7.0e-15  1.00e+00   -2.053093542e-03  -2.075927521e-03  1.4e-12  5.92  \n",
      "(CVXPY) May 28 05:55:03 PM: 37  1.7e-11  5.8e-12  7.0e-15  9.99e-01   -2.053092325e-03  -2.075925734e-03  1.4e-12  6.07  \n",
      "(CVXPY) May 28 05:55:03 PM: 38  1.7e-11  5.8e-12  6.9e-15  9.29e-01   -2.052918655e-03  -2.075683325e-03  1.4e-12  6.36  \n",
      "(CVXPY) May 28 05:55:03 PM: 39  1.7e-11  5.8e-12  6.9e-15  1.00e+00   -2.052913703e-03  -2.075676186e-03  1.4e-12  6.51  \n",
      "(CVXPY) May 28 05:55:03 PM: 40  1.7e-11  5.8e-12  6.9e-15  1.00e+00   -2.052903818e-03  -2.075661875e-03  1.4e-12  6.66  \n",
      "(CVXPY) May 28 05:55:03 PM: 41  1.6e-11  5.7e-12  6.9e-15  1.00e+00   -2.052746119e-03  -2.075433494e-03  1.4e-12  6.81  \n",
      "(CVXPY) May 28 05:55:04 PM: 42  1.5e-11  5.6e-12  6.6e-15  9.13e-01   -2.051276118e-03  -2.073426088e-03  1.4e-12  6.97  \n",
      "(CVXPY) May 28 05:55:04 PM: 43  1.6e-11  5.5e-12  6.5e-15  9.99e-01   -2.050646323e-03  -2.072521649e-03  1.4e-12  7.11  \n",
      "(CVXPY) May 28 05:55:04 PM: 44  1.7e-11  5.5e-12  6.4e-15  9.99e-01   -2.050607899e-03  -2.072466194e-03  1.4e-12  7.26  \n",
      "(CVXPY) May 28 05:55:04 PM: 45  1.7e-11  5.5e-12  6.4e-15  1.01e+00   -2.050447043e-03  -2.072237976e-03  1.4e-12  7.42  \n",
      "(CVXPY) May 28 05:55:04 PM: 46  1.7e-11  5.5e-12  6.4e-15  1.00e+00   -2.050408671e-03  -2.072182623e-03  1.4e-12  7.57  \n",
      "(CVXPY) May 28 05:55:04 PM: 47  1.7e-11  5.5e-12  6.4e-15  1.00e+00   -2.050406271e-03  -2.072179165e-03  1.4e-12  7.71  \n",
      "(CVXPY) May 28 05:55:04 PM: 48  1.7e-11  5.5e-12  6.4e-15  9.47e-01   -2.050406178e-03  -2.072178983e-03  1.4e-12  7.87  \n",
      "(CVXPY) May 28 05:55:05 PM: 49  1.7e-11  5.5e-12  6.4e-15  9.47e-01   -2.050406178e-03  -2.072178983e-03  1.4e-12  8.02  \n",
      "(CVXPY) May 28 05:55:05 PM: 50  1.7e-11  5.5e-12  6.5e-15  9.99e-01   -2.050329608e-03  -2.072068448e-03  1.4e-12  8.17  \n",
      "(CVXPY) May 28 05:55:05 PM: 51  1.7e-11  5.5e-12  6.4e-15  1.00e+00   -2.050291217e-03  -2.072013135e-03  1.4e-12  8.31  \n",
      "(CVXPY) May 28 05:55:05 PM: 52  1.7e-11  5.5e-12  6.4e-15  9.97e-01   -2.050269392e-03  -2.071983138e-03  1.4e-12  8.47  \n",
      "(CVXPY) May 28 05:55:05 PM: 53  1.7e-11  5.5e-12  6.4e-15  1.00e+00   -2.050250224e-03  -2.071955524e-03  1.4e-12  8.62  \n",
      "(CVXPY) May 28 05:55:05 PM: 54  1.7e-11  5.5e-12  6.4e-15  1.01e+00   -2.050245194e-03  -2.071948410e-03  1.4e-12  8.77  \n",
      "(CVXPY) May 28 05:55:06 PM: 55  1.7e-11  5.5e-12  6.4e-15  1.00e+00   -2.050243986e-03  -2.071946684e-03  1.4e-12  8.92  \n",
      "(CVXPY) May 28 05:55:06 PM: 56  1.7e-11  5.5e-12  6.4e-15  1.00e+00   -2.050243986e-03  -2.071946684e-03  1.4e-12  9.08  \n",
      "(CVXPY) May 28 05:55:06 PM: 57  1.7e-11  5.5e-12  6.4e-15  9.08e-01   -2.050238767e-03  -2.071939449e-03  1.4e-12  9.24  \n",
      "(CVXPY) May 28 05:55:06 PM: 58  1.7e-11  5.5e-12  6.3e-15  9.99e-01   -2.050238601e-03  -2.071939234e-03  1.4e-12  9.44  \n",
      "(CVXPY) May 28 05:55:06 PM: 59  1.7e-11  5.5e-12  6.3e-15  1.00e+00   -2.050238306e-03  -2.071938803e-03  1.4e-12  9.63  \n",
      "(CVXPY) May 28 05:55:06 PM: 60  1.7e-11  5.5e-12  6.3e-15  1.00e+00   -2.050238138e-03  -2.071938587e-03  1.4e-12  9.82  \n",
      "(CVXPY) May 28 05:55:07 PM: 61  1.7e-11  5.5e-12  6.3e-15  9.63e-01   -2.050235517e-03  -2.071934935e-03  1.4e-12  10.00 \n",
      "(CVXPY) May 28 05:55:07 PM: 62  1.7e-11  5.5e-12  6.3e-15  9.99e-01   -2.050225951e-03  -2.071921142e-03  1.4e-12  10.15 \n",
      "(CVXPY) May 28 05:55:07 PM: 63  1.7e-11  5.5e-12  6.3e-15  8.50e-01   -2.050220842e-03  -2.071914012e-03  1.4e-12  10.31 \n",
      "(CVXPY) May 28 05:55:07 PM: 64  1.7e-11  5.5e-12  6.3e-15  9.98e-01   -2.050220688e-03  -2.071913797e-03  1.4e-12  10.47 \n",
      "(CVXPY) May 28 05:55:07 PM: 65  1.7e-11  5.5e-12  6.3e-15  1.00e+00   -2.050220368e-03  -2.071913366e-03  1.4e-12  10.62 \n",
      "(CVXPY) May 28 05:55:07 PM: 66  1.7e-11  5.5e-12  6.3e-15  9.63e-01   -2.050204377e-03  -2.071888740e-03  1.4e-12  10.78 \n",
      "(CVXPY) May 28 05:55:08 PM: 67  1.7e-11  5.5e-12  6.4e-15  1.00e+00   -2.050185271e-03  -2.071861149e-03  1.4e-12  10.93 \n",
      "(CVXPY) May 28 05:55:08 PM: 68  1.7e-11  5.5e-12  6.4e-15  1.00e+00   -2.050108735e-03  -2.071750815e-03  1.4e-12  11.08 \n",
      "(CVXPY) May 28 05:55:08 PM: 69  1.7e-11  5.5e-12  6.4e-15  9.80e-01   -2.050106490e-03  -2.071747495e-03  1.4e-12  11.24 \n",
      "(CVXPY) May 28 05:55:08 PM: 70  1.7e-11  5.5e-12  6.4e-15  1.00e+00   -2.050106445e-03  -2.071747441e-03  1.4e-12  11.40 \n",
      "(CVXPY) May 28 05:55:08 PM: 71  1.7e-11  5.5e-12  6.3e-15  9.99e-01   -2.050106390e-03  -2.071747389e-03  1.4e-12  11.60 \n",
      "(CVXPY) May 28 05:55:08 PM: 72  1.7e-11  5.5e-12  6.3e-15  9.99e-01   -2.050106390e-03  -2.071747389e-03  1.4e-12  11.75 \n",
      "(CVXPY) May 28 05:55:09 PM: 73  1.7e-11  5.5e-12  6.3e-15  9.99e-01   -2.050106390e-03  -2.071747389e-03  1.4e-12  11.91 \n",
      "(CVXPY) May 28 05:55:09 PM: Optimizer terminated. Time: 12.08   \n",
      "(CVXPY) May 28 05:55:09 PM: \n",
      "(CVXPY) May 28 05:55:09 PM: \n",
      "(CVXPY) May 28 05:55:09 PM: Interior-point solution summary\n",
      "(CVXPY) May 28 05:55:09 PM:   Problem status  : UNKNOWN\n",
      "(CVXPY) May 28 05:55:09 PM:   Solution status : UNKNOWN\n",
      "(CVXPY) May 28 05:55:09 PM:   Primal.  obj: -2.0501063918e-03   nrm: 5e+03    Viol.  con: 5e-08    var: 0e+00    barvar: 0e+00  \n",
      "(CVXPY) May 28 05:55:09 PM:   Dual.    obj: -2.0717473885e-03   nrm: 2e+02    Viol.  con: 0e+00    var: 2e-08    barvar: 4e-09  \n"
     ]
    },
    {
     "ename": "SolverError",
     "evalue": "Solver 'MOSEK' failed. Try another solver, or solve with verbose=True for more information.",
     "output_type": "error",
     "traceback": [
      "\u001b[31m---------------------------------------------------------------------------\u001b[39m",
      "\u001b[31mSolverError\u001b[39m                               Traceback (most recent call last)",
      "\u001b[36mCell\u001b[39m\u001b[36m \u001b[39m\u001b[32mIn[216]\u001b[39m\u001b[32m, line 9\u001b[39m\n\u001b[32m      2\u001b[39m prob = cp.Problem(cp.Minimize(obj), constraints)\n\u001b[32m      3\u001b[39m mosek_params = {\n\u001b[32m      4\u001b[39m     \u001b[33m\"\u001b[39m\u001b[33mMSK_DPAR_INTPNT_TOL_REL_GAP\u001b[39m\u001b[33m\"\u001b[39m: \u001b[32m1e-4\u001b[39m,\n\u001b[32m      5\u001b[39m     \u001b[33m\"\u001b[39m\u001b[33mMSK_DPAR_INTPNT_TOL_PFEAS\u001b[39m\u001b[33m\"\u001b[39m: \u001b[32m1e-4\u001b[39m,\n\u001b[32m      6\u001b[39m     \u001b[33m\"\u001b[39m\u001b[33mMSK_DPAR_INTPNT_TOL_DFEAS\u001b[39m\u001b[33m\"\u001b[39m: \u001b[32m1e-4\u001b[39m,\n\u001b[32m      7\u001b[39m     \u001b[33m\"\u001b[39m\u001b[33mMSK_DPAR_INTPNT_TOL_MU_RED\u001b[39m\u001b[33m\"\u001b[39m: \u001b[32m1e-4\u001b[39m,\n\u001b[32m      8\u001b[39m }\n\u001b[32m----> \u001b[39m\u001b[32m9\u001b[39m \u001b[43mprob\u001b[49m\u001b[43m.\u001b[49m\u001b[43msolve\u001b[49m\u001b[43m(\u001b[49m\u001b[43msolver\u001b[49m\u001b[43m=\u001b[49m\u001b[33;43m'\u001b[39;49m\u001b[33;43mMOSEK\u001b[39;49m\u001b[33;43m'\u001b[39;49m\u001b[43m,\u001b[49m\u001b[43m \u001b[49m\u001b[43mverbose\u001b[49m\u001b[43m=\u001b[49m\u001b[38;5;28;43;01mTrue\u001b[39;49;00m\u001b[43m,\u001b[49m\u001b[43m \u001b[49m\u001b[43mmosek_params\u001b[49m\u001b[43m \u001b[49m\u001b[43m=\u001b[49m\u001b[43m \u001b[49m\u001b[43mmosek_params\u001b[49m\u001b[43m)\u001b[49m\n",
      "\u001b[36mFile \u001b[39m\u001b[32m~/opt/anaconda3/envs/mosek/lib/python3.12/site-packages/cvxpy/problems/problem.py:600\u001b[39m, in \u001b[36mProblem.solve\u001b[39m\u001b[34m(self, *args, **kwargs)\u001b[39m\n\u001b[32m    597\u001b[39m         \u001b[38;5;28;01mraise\u001b[39;00m \u001b[38;5;167;01mValueError\u001b[39;00m(\n\u001b[32m    598\u001b[39m             \u001b[33m\"\u001b[39m\u001b[33mCannot specify both \u001b[39m\u001b[33m'\u001b[39m\u001b[33msolver\u001b[39m\u001b[33m'\u001b[39m\u001b[33m and \u001b[39m\u001b[33m'\u001b[39m\u001b[33msolver_path\u001b[39m\u001b[33m'\u001b[39m\u001b[33m. Please choose one.\u001b[39m\u001b[33m\"\u001b[39m)\n\u001b[32m    599\u001b[39m     \u001b[38;5;28;01mreturn\u001b[39;00m \u001b[38;5;28mself\u001b[39m._solve_solver_path(solve_func,solver_path, args, kwargs)\n\u001b[32m--> \u001b[39m\u001b[32m600\u001b[39m \u001b[38;5;28;01mreturn\u001b[39;00m \u001b[43msolve_func\u001b[49m\u001b[43m(\u001b[49m\u001b[38;5;28;43mself\u001b[39;49m\u001b[43m,\u001b[49m\u001b[43m \u001b[49m\u001b[43m*\u001b[49m\u001b[43margs\u001b[49m\u001b[43m,\u001b[49m\u001b[43m \u001b[49m\u001b[43m*\u001b[49m\u001b[43m*\u001b[49m\u001b[43mkwargs\u001b[49m\u001b[43m)\u001b[49m\n",
      "\u001b[36mFile \u001b[39m\u001b[32m~/opt/anaconda3/envs/mosek/lib/python3.12/site-packages/cvxpy/problems/problem.py:1187\u001b[39m, in \u001b[36mProblem._solve\u001b[39m\u001b[34m(self, solver, warm_start, verbose, gp, qcp, requires_grad, enforce_dpp, ignore_dpp, canon_backend, **kwargs)\u001b[39m\n\u001b[32m   1185\u001b[39m end = time.time()\n\u001b[32m   1186\u001b[39m \u001b[38;5;28mself\u001b[39m._solve_time = end - start\n\u001b[32m-> \u001b[39m\u001b[32m1187\u001b[39m \u001b[38;5;28;43mself\u001b[39;49m\u001b[43m.\u001b[49m\u001b[43munpack_results\u001b[49m\u001b[43m(\u001b[49m\u001b[43msolution\u001b[49m\u001b[43m,\u001b[49m\u001b[43m \u001b[49m\u001b[43msolving_chain\u001b[49m\u001b[43m,\u001b[49m\u001b[43m \u001b[49m\u001b[43minverse_data\u001b[49m\u001b[43m)\u001b[49m\n\u001b[32m   1188\u001b[39m \u001b[38;5;28;01mif\u001b[39;00m verbose:\n\u001b[32m   1189\u001b[39m     \u001b[38;5;28mprint\u001b[39m(_FOOTER)\n",
      "\u001b[36mFile \u001b[39m\u001b[32m~/opt/anaconda3/envs/mosek/lib/python3.12/site-packages/cvxpy/problems/problem.py:1512\u001b[39m, in \u001b[36mProblem.unpack_results\u001b[39m\u001b[34m(self, solution, chain, inverse_data)\u001b[39m\n\u001b[32m   1510\u001b[39m     warnings.warn(INF_OR_UNB_MESSAGE)\n\u001b[32m   1511\u001b[39m \u001b[38;5;28;01mif\u001b[39;00m solution.status \u001b[38;5;129;01min\u001b[39;00m s.ERROR:\n\u001b[32m-> \u001b[39m\u001b[32m1512\u001b[39m     \u001b[38;5;28;01mraise\u001b[39;00m error.SolverError(\n\u001b[32m   1513\u001b[39m             \u001b[33m\"\u001b[39m\u001b[33mSolver \u001b[39m\u001b[33m'\u001b[39m\u001b[38;5;132;01m%s\u001b[39;00m\u001b[33m'\u001b[39m\u001b[33m failed. \u001b[39m\u001b[33m\"\u001b[39m % chain.solver.name() +\n\u001b[32m   1514\u001b[39m             \u001b[33m\"\u001b[39m\u001b[33mTry another solver, or solve with verbose=True for more \u001b[39m\u001b[33m\"\u001b[39m\n\u001b[32m   1515\u001b[39m             \u001b[33m\"\u001b[39m\u001b[33minformation.\u001b[39m\u001b[33m\"\u001b[39m)\n\u001b[32m   1517\u001b[39m \u001b[38;5;28mself\u001b[39m.unpack(solution)\n\u001b[32m   1518\u001b[39m \u001b[38;5;28mself\u001b[39m._solver_stats = SolverStats.from_dict(\u001b[38;5;28mself\u001b[39m._solution.attr,\n\u001b[32m   1519\u001b[39m                                  chain.solver.name())\n",
      "\u001b[31mSolverError\u001b[39m: Solver 'MOSEK' failed. Try another solver, or solve with verbose=True for more information."
     ]
    }
   ],
   "source": [
    "constraints += [(cp.trace(Gamma)) <= 4.0000003]\n",
    "prob = cp.Problem(cp.Minimize(obj), constraints)\n",
    "mosek_params = {\n",
    "    \"MSK_DPAR_INTPNT_TOL_REL_GAP\": 1e-4,\n",
    "    \"MSK_DPAR_INTPNT_TOL_PFEAS\": 1e-4,\n",
    "    \"MSK_DPAR_INTPNT_TOL_DFEAS\": 1e-4,\n",
    "    \"MSK_DPAR_INTPNT_TOL_MU_RED\": 1e-4,\n",
    "}\n",
    "prob.solve(solver='MOSEK', verbose=True, mosek_params = mosek_params)"
   ]
  },
  {
   "cell_type": "code",
   "execution_count": 72,
   "metadata": {},
   "outputs": [
    {
     "data": {
      "text/plain": [
       "array([ 9.99999983e-01,  9.99999980e-01, -2.77517893e-09,  2.49143933e-10,\n",
       "        8.26577366e-09,  3.87373598e-01,  9.99999976e-01,  6.12626382e-01,\n",
       "        1.59136780e-05,  1.81200909e-05,  1.58728664e-05,  1.81469772e-05,\n",
       "        1.59662972e-05,  1.80711304e-05,  1.59408602e-05,  1.80994772e-05,\n",
       "        2.50529053e-02,  1.53536586e-02,  2.50584672e-02,  1.53547237e-02,\n",
       "        1.60008216e-05,  1.87762580e-05,  1.60188567e-05,  1.87144460e-05,\n",
       "        1.02235126e-04,  1.27624992e-01,  2.14916612e-05,  1.27662624e-01,\n",
       "        1.54317370e-01,  9.52161962e-02,  1.54316244e-01,  9.52050160e-02,\n",
       "        1.88647398e-05,  1.75444403e-05,  1.87703547e-05,  1.75454975e-05,\n",
       "        1.89655492e-05,  1.75634369e-05,  1.88246119e-05,  1.75517138e-05,\n",
       "        6.47384973e-04,  4.01818554e-04,  6.47066832e-04,  4.01819825e-04,\n",
       "        1.86805772e-05,  1.93667201e-05,  1.86120069e-05,  1.84115640e-05,\n",
       "        5.39836465e-05,  4.27184106e-02,  2.23214575e-05,  4.20956286e-02,\n",
       "        2.38376085e-02,  1.48299262e-02,  2.38329479e-02,  1.47813524e-02])"
      ]
     },
     "execution_count": 72,
     "metadata": {},
     "output_type": "execute_result"
    }
   ],
   "source": [
    "Ga = Gamma.value\n",
    "(np.diag(Ga))"
   ]
  },
  {
   "cell_type": "code",
   "execution_count": null,
   "metadata": {},
   "outputs": [
    {
     "data": {
      "text/plain": [
       "({0: {0: 0.0, 1: 0.0},\n",
       "  1: {0: 0, 1: 0.3873736058155839},\n",
       "  2: {0: 1, 1: 0.6126263941844161}},\n",
       " 0.7827045382418681)"
      ]
     },
     "execution_count": 73,
     "metadata": {},
     "output_type": "execute_result"
    }
   ],
   "source": [
    "p, delta"
   ]
  },
  {
   "cell_type": "code",
   "execution_count": null,
   "metadata": {},
   "outputs": [
    {
     "ename": "SolverError",
     "evalue": "Solver 'MOSEK' failed. Try another solver, or solve with verbose=True for more information.",
     "output_type": "error",
     "traceback": [
      "\u001b[31m---------------------------------------------------------------------------\u001b[39m",
      "\u001b[31mSolverError\u001b[39m                               Traceback (most recent call last)",
      "\u001b[36mCell\u001b[39m\u001b[36m \u001b[39m\u001b[32mIn[134]\u001b[39m\u001b[32m, line 5\u001b[39m\n\u001b[32m      3\u001b[39m constraints += [(cp.trace(Gamma)) <= tr]\n\u001b[32m      4\u001b[39m prob = cp.Problem(cp.Minimize(obj), constraints)\n\u001b[32m----> \u001b[39m\u001b[32m5\u001b[39m \u001b[43mprob\u001b[49m\u001b[43m.\u001b[49m\u001b[43msolve\u001b[49m\u001b[43m(\u001b[49m\u001b[43msolver\u001b[49m\u001b[43m=\u001b[49m\u001b[33;43m'\u001b[39;49m\u001b[33;43mMOSEK\u001b[39;49m\u001b[33;43m'\u001b[39;49m\u001b[43m,\u001b[49m\u001b[43m \u001b[49m\u001b[43mverbose\u001b[49m\u001b[43m=\u001b[49m\u001b[38;5;28;43;01mFalse\u001b[39;49;00m\u001b[43m)\u001b[49m\n\u001b[32m      6\u001b[39m \u001b[38;5;28;01mif\u001b[39;00m prob.status == \u001b[33m'\u001b[39m\u001b[33minfeasible\u001b[39m\u001b[33m'\u001b[39m:\n\u001b[32m      7\u001b[39m     \u001b[38;5;28mprint\u001b[39m(\u001b[33mf\u001b[39m\u001b[33m'\u001b[39m\u001b[33minf - \u001b[39m\u001b[38;5;132;01m{\u001b[39;00mtr\u001b[38;5;132;01m}\u001b[39;00m\u001b[33m'\u001b[39m)\n",
      "\u001b[36mFile \u001b[39m\u001b[32m~/opt/anaconda3/envs/mosek/lib/python3.12/site-packages/cvxpy/problems/problem.py:600\u001b[39m, in \u001b[36mProblem.solve\u001b[39m\u001b[34m(self, *args, **kwargs)\u001b[39m\n\u001b[32m    597\u001b[39m         \u001b[38;5;28;01mraise\u001b[39;00m \u001b[38;5;167;01mValueError\u001b[39;00m(\n\u001b[32m    598\u001b[39m             \u001b[33m\"\u001b[39m\u001b[33mCannot specify both \u001b[39m\u001b[33m'\u001b[39m\u001b[33msolver\u001b[39m\u001b[33m'\u001b[39m\u001b[33m and \u001b[39m\u001b[33m'\u001b[39m\u001b[33msolver_path\u001b[39m\u001b[33m'\u001b[39m\u001b[33m. Please choose one.\u001b[39m\u001b[33m\"\u001b[39m)\n\u001b[32m    599\u001b[39m     \u001b[38;5;28;01mreturn\u001b[39;00m \u001b[38;5;28mself\u001b[39m._solve_solver_path(solve_func,solver_path, args, kwargs)\n\u001b[32m--> \u001b[39m\u001b[32m600\u001b[39m \u001b[38;5;28;01mreturn\u001b[39;00m \u001b[43msolve_func\u001b[49m\u001b[43m(\u001b[49m\u001b[38;5;28;43mself\u001b[39;49m\u001b[43m,\u001b[49m\u001b[43m \u001b[49m\u001b[43m*\u001b[49m\u001b[43margs\u001b[49m\u001b[43m,\u001b[49m\u001b[43m \u001b[49m\u001b[43m*\u001b[49m\u001b[43m*\u001b[49m\u001b[43mkwargs\u001b[49m\u001b[43m)\u001b[49m\n",
      "\u001b[36mFile \u001b[39m\u001b[32m~/opt/anaconda3/envs/mosek/lib/python3.12/site-packages/cvxpy/problems/problem.py:1187\u001b[39m, in \u001b[36mProblem._solve\u001b[39m\u001b[34m(self, solver, warm_start, verbose, gp, qcp, requires_grad, enforce_dpp, ignore_dpp, canon_backend, **kwargs)\u001b[39m\n\u001b[32m   1185\u001b[39m end = time.time()\n\u001b[32m   1186\u001b[39m \u001b[38;5;28mself\u001b[39m._solve_time = end - start\n\u001b[32m-> \u001b[39m\u001b[32m1187\u001b[39m \u001b[38;5;28;43mself\u001b[39;49m\u001b[43m.\u001b[49m\u001b[43munpack_results\u001b[49m\u001b[43m(\u001b[49m\u001b[43msolution\u001b[49m\u001b[43m,\u001b[49m\u001b[43m \u001b[49m\u001b[43msolving_chain\u001b[49m\u001b[43m,\u001b[49m\u001b[43m \u001b[49m\u001b[43minverse_data\u001b[49m\u001b[43m)\u001b[49m\n\u001b[32m   1188\u001b[39m \u001b[38;5;28;01mif\u001b[39;00m verbose:\n\u001b[32m   1189\u001b[39m     \u001b[38;5;28mprint\u001b[39m(_FOOTER)\n",
      "\u001b[36mFile \u001b[39m\u001b[32m~/opt/anaconda3/envs/mosek/lib/python3.12/site-packages/cvxpy/problems/problem.py:1512\u001b[39m, in \u001b[36mProblem.unpack_results\u001b[39m\u001b[34m(self, solution, chain, inverse_data)\u001b[39m\n\u001b[32m   1510\u001b[39m     warnings.warn(INF_OR_UNB_MESSAGE)\n\u001b[32m   1511\u001b[39m \u001b[38;5;28;01mif\u001b[39;00m solution.status \u001b[38;5;129;01min\u001b[39;00m s.ERROR:\n\u001b[32m-> \u001b[39m\u001b[32m1512\u001b[39m     \u001b[38;5;28;01mraise\u001b[39;00m error.SolverError(\n\u001b[32m   1513\u001b[39m             \u001b[33m\"\u001b[39m\u001b[33mSolver \u001b[39m\u001b[33m'\u001b[39m\u001b[38;5;132;01m%s\u001b[39;00m\u001b[33m'\u001b[39m\u001b[33m failed. \u001b[39m\u001b[33m\"\u001b[39m % chain.solver.name() +\n\u001b[32m   1514\u001b[39m             \u001b[33m\"\u001b[39m\u001b[33mTry another solver, or solve with verbose=True for more \u001b[39m\u001b[33m\"\u001b[39m\n\u001b[32m   1515\u001b[39m             \u001b[33m\"\u001b[39m\u001b[33minformation.\u001b[39m\u001b[33m\"\u001b[39m)\n\u001b[32m   1517\u001b[39m \u001b[38;5;28mself\u001b[39m.unpack(solution)\n\u001b[32m   1518\u001b[39m \u001b[38;5;28mself\u001b[39m._solver_stats = SolverStats.from_dict(\u001b[38;5;28mself\u001b[39m._solution.attr,\n\u001b[32m   1519\u001b[39m                                  chain.solver.name())\n",
      "\u001b[31mSolverError\u001b[39m: Solver 'MOSEK' failed. Try another solver, or solve with verbose=True for more information."
     ]
    }
   ],
   "source": [
    "traces = np.linspace(1.21, 1.7, 50)\n",
    "for tr in traces:\n",
    "    constraints += [(cp.trace(Gamma)) <= tr]\n",
    "    prob = cp.Problem(cp.Minimize(obj), constraints)\n",
    "    prob.solve(solver='MOSEK', verbose=False)\n",
    "    if prob.status == 'infeasible':\n",
    "        print(f'inf - {tr}')\n",
    "        pass\n",
    "    else:\n",
    "        print(prob.value, tr)\n",
    "        break\n",
    "    constraints.pop()"
   ]
  },
  {
   "cell_type": "code",
   "execution_count": null,
   "metadata": {},
   "outputs": [
    {
     "name": "stdout",
     "output_type": "stream",
     "text": [
      "Base constraints status: inf\n"
     ]
    }
   ],
   "source": [
    "constraints_base = constraints  # your base constraints without equality constraints\n",
    "  # list of all equality constraints\n",
    "\n",
    "# Test feasibility with base only\n",
    "prob = cp.Problem(cp.Minimize(0), constraints_base)\n",
    "status = prob.solve(solver='MOSEK', verbose=False)\n",
    "print(\"Base constraints status:\", status)\n",
    "\n",
    "# Add equality constraints one by one or in groups\n",
    "for i, eq_constr in enumerate(equality_constraints):\n",
    "    constraints_test = constraints_base + equality_constraints[:i+1]\n",
    "    prob = cp.Problem(cp.Minimize(0), constraints_test)\n",
    "    status = prob.solve(solver='MOSEK', verbose=False)\n",
    "    print(f\"After adding equality constraint {i+1}, status:\", status)\n",
    "    if status == 'infeasible':\n",
    "        print(\"Infeasibility found at constraint index\", i)\n",
    "        break\n"
   ]
  },
  {
   "cell_type": "code",
   "execution_count": null,
   "metadata": {},
   "outputs": [],
   "source": []
  },
  {
   "cell_type": "code",
   "execution_count": null,
   "metadata": {},
   "outputs": [
    {
     "data": {
      "text/plain": [
       "((0, 10), (11, 0))"
      ]
     },
     "execution_count": 14,
     "metadata": {},
     "output_type": "execute_result"
    }
   ],
   "source": [
    "equal_list[12]"
   ]
  },
  {
   "cell_type": "code",
   "execution_count": null,
   "metadata": {},
   "outputs": [
    {
     "name": "stdout",
     "output_type": "stream",
     "text": [
      "0 0\n",
      "4 4\n",
      "4 5\n",
      "4 6\n",
      "4 7\n",
      "4 8\n",
      "4 9\n",
      "4 10\n",
      "4 11\n",
      "4 12\n",
      "4 13\n",
      "4 14\n",
      "4 15\n",
      "4 20\n",
      "4 21\n",
      "4 22\n",
      "4 23\n",
      "4 24\n",
      "4 25\n",
      "4 26\n",
      "4 27\n",
      "5 4\n",
      "5 5\n",
      "5 6\n",
      "5 7\n",
      "5 8\n",
      "5 9\n",
      "5 10\n",
      "5 11\n",
      "5 12\n",
      "5 13\n",
      "5 14\n",
      "5 15\n",
      "5 20\n",
      "5 21\n",
      "5 22\n",
      "5 23\n",
      "5 24\n",
      "5 25\n",
      "5 26\n",
      "5 27\n",
      "6 4\n",
      "6 5\n",
      "6 6\n",
      "6 7\n",
      "6 8\n",
      "6 9\n",
      "6 10\n",
      "6 11\n",
      "6 12\n",
      "6 13\n",
      "6 14\n",
      "6 15\n",
      "6 16\n",
      "6 17\n",
      "6 18\n",
      "6 19\n",
      "6 24\n",
      "6 25\n",
      "6 26\n",
      "6 27\n",
      "7 4\n",
      "7 5\n",
      "7 6\n",
      "7 7\n",
      "7 8\n",
      "7 9\n",
      "7 10\n",
      "7 11\n",
      "7 12\n",
      "7 13\n",
      "7 14\n",
      "7 15\n",
      "7 16\n",
      "7 17\n",
      "7 18\n",
      "7 19\n",
      "7 24\n",
      "7 25\n",
      "7 26\n",
      "7 27\n",
      "8 4\n",
      "8 5\n",
      "8 6\n",
      "8 7\n",
      "8 8\n",
      "8 9\n",
      "8 10\n",
      "8 11\n",
      "8 12\n",
      "8 13\n",
      "8 14\n",
      "8 15\n",
      "8 16\n",
      "8 17\n",
      "8 18\n",
      "8 19\n",
      "8 20\n",
      "8 21\n",
      "8 22\n",
      "8 23\n",
      "9 4\n",
      "9 5\n",
      "9 6\n",
      "9 7\n",
      "9 8\n",
      "9 9\n",
      "9 10\n",
      "9 11\n",
      "9 12\n",
      "9 13\n",
      "9 14\n",
      "9 15\n",
      "9 16\n",
      "9 17\n",
      "9 18\n",
      "9 19\n",
      "9 20\n",
      "9 21\n",
      "9 22\n",
      "9 23\n",
      "10 4\n",
      "10 5\n",
      "10 6\n",
      "10 7\n",
      "10 8\n",
      "10 9\n",
      "10 10\n",
      "10 11\n",
      "10 12\n",
      "10 13\n",
      "10 14\n",
      "10 15\n",
      "10 20\n",
      "10 21\n",
      "10 22\n",
      "10 23\n",
      "10 24\n",
      "10 25\n",
      "10 26\n",
      "10 27\n",
      "11 4\n",
      "11 5\n",
      "11 6\n",
      "11 7\n",
      "11 8\n",
      "11 9\n",
      "11 10\n",
      "11 11\n",
      "11 12\n",
      "11 13\n",
      "11 14\n",
      "11 15\n",
      "11 20\n",
      "11 21\n",
      "11 22\n",
      "11 23\n",
      "11 24\n",
      "11 25\n",
      "11 26\n",
      "11 27\n",
      "12 4\n",
      "12 5\n",
      "12 6\n",
      "12 7\n",
      "12 8\n",
      "12 9\n",
      "12 10\n",
      "12 11\n",
      "12 12\n",
      "12 13\n",
      "12 14\n",
      "12 15\n",
      "12 16\n",
      "12 17\n",
      "12 18\n",
      "12 19\n",
      "12 24\n",
      "12 25\n",
      "12 26\n",
      "12 27\n",
      "13 4\n",
      "13 5\n",
      "13 6\n",
      "13 7\n",
      "13 8\n",
      "13 9\n",
      "13 10\n",
      "13 11\n",
      "13 12\n",
      "13 13\n",
      "13 14\n",
      "13 15\n",
      "13 16\n",
      "13 17\n",
      "13 18\n",
      "13 19\n",
      "13 24\n",
      "13 25\n",
      "13 26\n",
      "13 27\n",
      "14 4\n",
      "14 5\n",
      "14 6\n",
      "14 7\n",
      "14 8\n",
      "14 9\n",
      "14 10\n",
      "14 11\n",
      "14 12\n",
      "14 13\n",
      "14 14\n",
      "14 15\n",
      "14 16\n",
      "14 17\n",
      "14 18\n",
      "14 19\n",
      "14 20\n",
      "14 21\n",
      "14 22\n",
      "14 23\n",
      "15 4\n",
      "15 5\n",
      "15 6\n",
      "15 7\n",
      "15 8\n",
      "15 9\n",
      "15 10\n",
      "15 11\n",
      "15 12\n",
      "15 13\n",
      "15 14\n",
      "15 15\n",
      "15 16\n",
      "15 17\n",
      "15 18\n",
      "15 19\n",
      "15 20\n",
      "15 21\n",
      "15 22\n",
      "15 23\n",
      "16 6\n",
      "16 7\n",
      "16 8\n",
      "16 9\n",
      "16 12\n",
      "16 13\n",
      "16 14\n",
      "16 15\n",
      "17 6\n",
      "17 7\n",
      "17 8\n",
      "17 9\n",
      "17 12\n",
      "17 13\n",
      "17 14\n",
      "17 15\n",
      "18 6\n",
      "18 7\n",
      "18 8\n",
      "18 9\n",
      "18 12\n",
      "18 13\n",
      "18 14\n",
      "18 15\n",
      "19 6\n",
      "19 7\n",
      "19 8\n",
      "19 9\n",
      "19 12\n",
      "19 13\n",
      "19 14\n",
      "19 15\n",
      "20 4\n",
      "20 5\n",
      "20 8\n",
      "20 9\n",
      "20 10\n",
      "20 11\n",
      "20 14\n",
      "20 15\n",
      "21 4\n",
      "21 5\n",
      "21 8\n",
      "21 9\n",
      "21 10\n",
      "21 11\n",
      "21 14\n",
      "21 15\n",
      "22 4\n",
      "22 5\n",
      "22 8\n",
      "22 9\n",
      "22 10\n",
      "22 11\n",
      "22 14\n",
      "22 15\n",
      "23 4\n",
      "23 5\n",
      "23 8\n",
      "23 9\n",
      "23 10\n",
      "23 11\n",
      "23 14\n",
      "23 15\n",
      "24 4\n",
      "24 5\n",
      "24 6\n",
      "24 7\n",
      "24 10\n",
      "24 11\n",
      "24 12\n",
      "24 13\n",
      "25 4\n",
      "25 5\n",
      "25 6\n",
      "25 7\n",
      "25 10\n",
      "25 11\n",
      "25 12\n",
      "25 13\n",
      "26 4\n",
      "26 5\n",
      "26 6\n",
      "26 7\n",
      "26 10\n",
      "26 11\n",
      "26 12\n",
      "26 13\n",
      "27 4\n",
      "27 5\n",
      "27 6\n",
      "27 7\n",
      "27 10\n",
      "27 11\n",
      "27 12\n",
      "27 13\n"
     ]
    }
   ],
   "source": [
    "a = np.zeros((28,28))\n",
    "\n",
    "for id in zero_list:\n",
    "    a[id] = 1\n",
    "for id in equal_list:\n",
    "    a[id[0]] = 1\n",
    "    a[id[1]] = 1\n",
    "\n",
    "for i in range(28):\n",
    "    for j in range(28):\n",
    "        if a[i,j] == 0:\n",
    "            print(i,j)"
   ]
  },
  {
   "cell_type": "code",
   "execution_count": null,
   "metadata": {},
   "outputs": [],
   "source": []
  }
 ],
 "metadata": {
  "kernelspec": {
   "display_name": "mosek",
   "language": "python",
   "name": "python3"
  },
  "language_info": {
   "codemirror_mode": {
    "name": "ipython",
    "version": 3
   },
   "file_extension": ".py",
   "mimetype": "text/x-python",
   "name": "python",
   "nbconvert_exporter": "python",
   "pygments_lexer": "ipython3",
   "version": "3.12.9"
  }
 },
 "nbformat": 4,
 "nbformat_minor": 2
}
