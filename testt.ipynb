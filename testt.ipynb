{
 "cells": [
  {
   "cell_type": "code",
   "execution_count": 1,
   "metadata": {},
   "outputs": [],
   "source": [
    "import numpy as np\n",
    "import cvxpy as cp"
   ]
  },
  {
   "cell_type": "markdown",
   "metadata": {},
   "source": [
    "## Example from cvxpy "
   ]
  },
  {
   "cell_type": "code",
   "execution_count": 21,
   "metadata": {},
   "outputs": [],
   "source": [
    "n = 3\n",
    "p = 3\n",
    "\n",
    "np.random.seed(1)\n",
    "\n",
    "C = np.random.randn(n,n)\n",
    "A = []\n",
    "b = []\n",
    "\n",
    "for i in range(p):\n",
    "    A.append(np.random.randn(n,n))\n",
    "    b.append(np.random.randn())"
   ]
  },
  {
   "cell_type": "code",
   "execution_count": 22,
   "metadata": {},
   "outputs": [],
   "source": [
    "X = cp.Variable((n,n), symmetric = True)\n",
    "\n",
    "constraints = [X >> 0]\n",
    "constraints += [\n",
    "    cp.trace(A[i] @ X) == b[i] for i in range(p)\n",
    "]"
   ]
  },
  {
   "cell_type": "code",
   "execution_count": 23,
   "metadata": {},
   "outputs": [
    {
     "data": {
      "text/plain": [
       "2.6543470585557203"
      ]
     },
     "execution_count": 23,
     "metadata": {},
     "output_type": "execute_result"
    }
   ],
   "source": [
    "prob = cp.Problem(cp.Minimize(cp.trace(C @ X)), constraints)\n",
    "prob.solve()"
   ]
  },
  {
   "cell_type": "code",
   "execution_count": 25,
   "metadata": {},
   "outputs": [
    {
     "data": {
      "text/plain": [
       "array([[ 1.60805504, -0.59770125, -0.69575821],\n",
       "       [-0.59770125,  0.22228555,  0.24689067],\n",
       "       [-0.69575821,  0.24689067,  1.39679134]])"
      ]
     },
     "execution_count": 25,
     "metadata": {},
     "output_type": "execute_result"
    }
   ],
   "source": [
    "X.value"
   ]
  },
  {
   "cell_type": "markdown",
   "metadata": {},
   "source": [
    "## Example with quantum state"
   ]
  },
  {
   "cell_type": "code",
   "execution_count": null,
   "metadata": {},
   "outputs": [
    {
     "data": {
      "text/plain": [
       "0.6402685566554495"
      ]
     },
     "execution_count": 40,
     "metadata": {},
     "output_type": "execute_result"
    }
   ],
   "source": [
    "rho = np.array([[0.5, 0.2, 0.1], [0.2, 0.3, 0.], [0.1, 0., 0.2]])\n",
    "\n",
    "X = cp.Variable((3,3), hermitian = True) #setting hermitian makes cvxpy think entries are complex\n",
    "\n",
    "constraints = [X>>0, cp.trace(X) == 1]\n",
    "\n",
    "objective = cp.real(cp.trace(rho @ X)) #so we need to take real part here so no complex in objective fct\n",
    "\n",
    "prob = cp.Problem(cp.Maximize(objective), constraints)\n",
    "prob.solve()"
   ]
  },
  {
   "cell_type": "code",
   "execution_count": 41,
   "metadata": {},
   "outputs": [
    {
     "data": {
      "text/plain": [
       "array([[0.71578654+0.j, 0.42071985+0.j, 0.16257992+0.j],\n",
       "       [0.42071985+0.j, 0.24728669+0.j, 0.09556   +0.j],\n",
       "       [0.16257992+0.j, 0.09556   +0.j, 0.03692677+0.j]])"
      ]
     },
     "execution_count": 41,
     "metadata": {},
     "output_type": "execute_result"
    }
   ],
   "source": [
    "X.value"
   ]
  },
  {
   "cell_type": "code",
   "execution_count": 43,
   "metadata": {},
   "outputs": [
    {
     "data": {
      "text/plain": [
       "np.float64(0.6581148607722879)"
      ]
     },
     "execution_count": 43,
     "metadata": {},
     "output_type": "execute_result"
    }
   ],
   "source": [
    "rho_0 = np.array([[0.7, 0.2], [0.2, 0.3]])  # Example state 1\n",
    "rho_1 = np.array([[0.4, 0.1], [0.1, 0.6]])  # Example state 2\n",
    "\n",
    "E0 = cp.Variable((2,2), hermitian=True)\n",
    "E1 = cp.Variable((2,2), hermitian = True)\n",
    "\n",
    "constraints = [E0 >> 0, E1 >> 0, E0 + E1 == np.eye(2)]\n",
    "\n",
    "objective = cp.real(0.5 * cp.trace(rho_0 @ E0) + 0.5 * cp.trace(rho_1 @ E1))\n",
    "\n",
    "prob = cp.Problem(cp.Maximize(objective), constraints)\n",
    "prob.solve()\n",
    "\n"
   ]
  },
  {
   "cell_type": "code",
   "execution_count": 44,
   "metadata": {},
   "outputs": [
    {
     "data": {
      "text/plain": [
       "array([[0.97434458+0.j, 0.15811486+0.j],\n",
       "       [0.15811486+0.j, 0.02565544+0.j]])"
      ]
     },
     "execution_count": 44,
     "metadata": {},
     "output_type": "execute_result"
    }
   ],
   "source": [
    "E0.value"
   ]
  },
  {
   "cell_type": "code",
   "execution_count": 47,
   "metadata": {},
   "outputs": [
    {
     "data": {
      "text/plain": [
       "2.0000000195088443"
      ]
     },
     "execution_count": 47,
     "metadata": {},
     "output_type": "execute_result"
    }
   ],
   "source": [
    "d = 2\n",
    "\n",
    "phip = np.array([[1, 0, 0, 1], \n",
    "                     [0, 0, 0, 0], \n",
    "                     [0, 0, 0, 0], \n",
    "                     [1, 0, 0, 1]]) / d\n",
    "\n",
    "\n",
    "J = cp.Variable((d**2, d**2), hermitian = True)\n",
    "\n",
    "constraints = [J >> 0, cp.partial_trace(J, (d,d), 1) == np.eye(d)]\n",
    "\n",
    "objective = cp.real(cp.trace(phip @ J))\n",
    "\n",
    "prob = cp.Problem(cp.Maximize(objective), constraints)\n",
    "prob.solve()"
   ]
  },
  {
   "cell_type": "code",
   "execution_count": 48,
   "metadata": {},
   "outputs": [
    {
     "data": {
      "text/plain": [
       "array([[ 1.00000001e+00+0.j, -1.42895070e-16+0.j,  3.39844948e-17+0.j,\n",
       "         1.00000001e+00+0.j],\n",
       "       [-1.42895070e-16+0.j, -6.49215334e-09+0.j, -4.50064862e-34+0.j,\n",
       "        -3.41646567e-17+0.j],\n",
       "       [ 3.39844948e-17+0.j, -4.50064862e-34+0.j, -6.49215029e-09+0.j,\n",
       "        -7.47418209e-17+0.j],\n",
       "       [ 1.00000001e+00+0.j, -3.41646567e-17+0.j, -7.47418209e-17+0.j,\n",
       "         1.00000001e+00+0.j]])"
      ]
     },
     "execution_count": 48,
     "metadata": {},
     "output_type": "execute_result"
    }
   ],
   "source": [
    "J.value"
   ]
  },
  {
   "cell_type": "code",
   "execution_count": 55,
   "metadata": {},
   "outputs": [
    {
     "data": {
      "text/plain": [
       "np.float64(1.125000232787867)"
      ]
     },
     "execution_count": 55,
     "metadata": {},
     "output_type": "execute_result"
    }
   ],
   "source": [
    "y0 = cp.Variable()\n",
    "y1 = cp.Variable()\n",
    "y2 = cp.Variable()\n",
    "y3 = cp.Variable()\n",
    "y4 = cp.Variable()\n",
    "\n",
    "M2 = cp.bmat([[y0,y1,y2],\n",
    "              [y1,y2,y3],\n",
    "              [y2,y3,y4]])\n",
    "M1 = cp.bmat([[y0,y1],[y1,y2]])\n",
    "\n",
    "constraints = [M2 >> 0, M1 >> 0, y0 == 1]\n",
    "constraints += [y1 >= -1, y1 <= 1]\n",
    "constraints += [y3 >= -1, y3 <= 1]\n",
    "constraints += [y4 >= 0, y4 <= 1]\n",
    "\n",
    "\n",
    "\n",
    "objective = y4 - 2*y2 + y1\n",
    "\n",
    "prob = cp.Problem(cp.Maximize(objective), constraints)\n",
    "prob.solve()"
   ]
  },
  {
   "cell_type": "code",
   "execution_count": null,
   "metadata": {},
   "outputs": [],
   "source": []
  }
 ],
 "metadata": {
  "kernelspec": {
   "display_name": "mosek",
   "language": "python",
   "name": "python3"
  },
  "language_info": {
   "codemirror_mode": {
    "name": "ipython",
    "version": 3
   },
   "file_extension": ".py",
   "mimetype": "text/x-python",
   "name": "python",
   "nbconvert_exporter": "python",
   "pygments_lexer": "ipython3",
   "version": "3.12.9"
  }
 },
 "nbformat": 4,
 "nbformat_minor": 2
}
